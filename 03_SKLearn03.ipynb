{
 "cells": [
  {
   "cell_type": "markdown",
   "id": "a8fa16ee",
   "metadata": {},
   "source": [
    "# Pertemuan 03 Data Science 03\n",
    "## 03 Machine Learninig Workflow dengan Scikit Learn\n",
    "## https://youtu.be/tiREcHrtDLo"
   ]
  },
  {
   "cell_type": "markdown",
   "id": "d76774f6",
   "metadata": {},
   "source": [
    "### Persiapan Dataset"
   ]
  },
  {
   "cell_type": "markdown",
   "id": "103a6f2b",
   "metadata": {},
   "source": [
    "#### Load Sample Dataset Iris Dataset"
   ]
  },
  {
   "cell_type": "code",
   "execution_count": 9,
   "id": "73783187",
   "metadata": {},
   "outputs": [],
   "source": [
    "from sklearn.datasets import load_iris\n",
    "\n",
    "iris = load_iris()\n",
    "\n",
    "X = iris.data \n",
    "y = iris.target"
   ]
  },
  {
   "cell_type": "markdown",
   "id": "dc883f19",
   "metadata": {},
   "source": [
    "#### Splitting Dataset : Training & Testing Set"
   ]
  },
  {
   "cell_type": "code",
   "execution_count": 10,
   "id": "7a493755",
   "metadata": {},
   "outputs": [],
   "source": [
    "from sklearn.model_selection import train_test_split\n",
    "\n",
    "X_train, X_test, y_train, y_test = train_test_split (X,\n",
    "                                                     y,\n",
    "                                                    test_size = 0.4,\n",
    "                                                    random_state = 1)\n"
   ]
  },
  {
   "cell_type": "markdown",
   "id": "d6ca6275",
   "metadata": {},
   "source": [
    "melakukan proses spliting.\n",
    "- `train_test_split(param1,param2,pram3,param4)`\n",
    "> - parameter 1 yaitu `X` digunakan untuk features\n",
    "> - parameter 2 yaitu `y` digunakan untuk target\n",
    "> - parameter 3 yaitu `test_size` digunakan untuk ukuran testing setnya dari 0- 1 dan bentuknya persentase.\n",
    "> - parameter 4 yaitu `random_state` digunakan untuk proses pengacakan konsisten maka perlu random setnumber yang disebut `random_state`."
   ]
  },
  {
   "cell_type": "markdown",
   "id": "8688b321",
   "metadata": {},
   "source": [
    "## Training Model"
   ]
  },
  {
   "cell_type": "markdown",
   "id": "c764f36a",
   "metadata": {},
   "source": [
    "- pada Scikit Learn, model machine learning dibentukd ari class yang dienal dengan istilah estimator.\n",
    "- setiap estimator akan mengimplementasikan dua method utama, yaitu `fit()` dan `predict()`.\n",
    "- method `fit()` digunakan untuk melakukan training model.\n",
    "- method `predict()` digunakan untuk melakukan estimasi/prediksi dengan memanfaatkan trained model."
   ]
  },
  {
   "cell_type": "code",
   "execution_count": 12,
   "id": "5fa3db1b",
   "metadata": {},
   "outputs": [
    {
     "data": {
      "text/plain": [
       "KNeighborsClassifier(n_neighbors=3)"
      ]
     },
     "execution_count": 12,
     "metadata": {},
     "output_type": "execute_result"
    }
   ],
   "source": [
    "from sklearn.neighbors import KNeighborsClassifier\n",
    "\n",
    "model = KNeighborsClassifier(n_neighbors = 3)\n",
    "model.fit(X_train, y_train)"
   ]
  },
  {
   "cell_type": "markdown",
   "id": "4ee57e85",
   "metadata": {},
   "source": [
    "- `KNeighborsClassifier` adalah machine learning model.\n",
    "- untuk membuat model perlu adanya parameter\n",
    "> `model = KNeighborsClassifier(paramer1)`\n",
    "> - parameter 1 yaitu n_neighbors parameter ini dibutuhkan karena dari KNeighborsClassifier, perlu menspesifikasikan jumlah neighbors.\n",
    "> -` model.fit(param1, param2)`\n",
    "> pada bagian ini model akan di training. dengan menggunakan `fit()`, isinya `X_train` dan `y_train`. X adalah features, dan y adalah target. maka dari itu model yang telah di `fit()` sudah di training."
   ]
  },
  {
   "cell_type": "markdown",
   "id": "83f1f079",
   "metadata": {},
   "source": [
    "#### Evaluasi Model"
   ]
  },
  {
   "cell_type": "code",
   "execution_count": 13,
   "id": "9433c94a",
   "metadata": {},
   "outputs": [
    {
     "name": "stdout",
     "output_type": "stream",
     "text": [
      "accuracy : 0.9833333333333333\n"
     ]
    }
   ],
   "source": [
    "from sklearn.metrics import accuracy_score\n",
    "\n",
    "y_pred = model.predict(X_test)\n",
    "acc = accuracy_score(y_test, y_pred)\n",
    "print(f'accuracy : {acc}')"
   ]
  },
  {
   "cell_type": "markdown",
   "id": "9911a1e6",
   "metadata": {},
   "source": [
    "- setelah di bagi menjadi dua bagian menjadi training set dan testing set\n",
    "- training set digunakan untuk melakuakn proses training model.\n",
    "- testing set untuk evaluasi model yang telah di training.\n",
    "> - cara testing set memiliki banyak metrix salah satunya `accuracy_score`\n",
    "> - model.predict(X_test)\n",
    ">> - digunakan untuk melakukan prediksi dan ditampung kedalam variable y_pred (target predict)\n",
    "> - accuracy_score(param1,param2)\n",
    ">> - digunakan untuk membandingkan y_test dan y_pred lalu ditampung kedalam variable acc (accuracy)."
   ]
  },
  {
   "cell_type": "markdown",
   "id": "5e7f49b3",
   "metadata": {},
   "source": [
    "### Pemanfaatan Training model"
   ]
  },
  {
   "cell_type": "code",
   "execution_count": 14,
   "id": "293b5c0f",
   "metadata": {},
   "outputs": [
    {
     "data": {
      "text/plain": [
       "array([1, 2])"
      ]
     },
     "execution_count": 14,
     "metadata": {},
     "output_type": "execute_result"
    }
   ],
   "source": [
    "data_baru = [[5,5,3,2],[2,4,3,5]]\n",
    "\n",
    "preds = model.predict(data_baru)\n",
    "preds"
   ]
  },
  {
   "cell_type": "markdown",
   "id": "924becad",
   "metadata": {},
   "source": [
    "- model yang telah di training akan digunakan untuk prediksi data baru.\n",
    "- pada data baru memiliki nilai features tapi tidak memiliki nilai target.\n",
    "- pada data_baru ini akan melakukan predict, yang hasilnya `array([1,2])` yang artinya pada bagian ke 1 pada data_baru memiliki nilai target 1, dan pada data_baru bagian ke 2 memiliki nilai target 2 \n",
    "- pada target baru ini perlu konfirmasi."
   ]
  },
  {
   "cell_type": "code",
   "execution_count": 15,
   "id": "c67f261f",
   "metadata": {},
   "outputs": [
    {
     "name": "stdout",
     "output_type": "stream",
     "text": [
      "Hasil Prediksi : ['versicolor', 'virginica']\n"
     ]
    }
   ],
   "source": [
    "pred_species = [iris.target_names[p] for p in preds]\n",
    "print(f'Hasil Prediksi : {pred_species}')"
   ]
  },
  {
   "cell_type": "markdown",
   "id": "63186084",
   "metadata": {},
   "source": [
    "- untuk data pertama di prediksi masuk ke kategori versicolor\n",
    "- untuk data kedua di prediksi masuk ke kategori virginica"
   ]
  },
  {
   "cell_type": "markdown",
   "id": "cd1a8520",
   "metadata": {},
   "source": [
    "## Dump & Load Trained Model"
   ]
  },
  {
   "cell_type": "markdown",
   "id": "025f942a",
   "metadata": {},
   "source": [
    "### Dumping Model Machine Learning menjadi file `joblib`"
   ]
  },
  {
   "cell_type": "code",
   "execution_count": 20,
   "id": "fb5fdfa2",
   "metadata": {},
   "outputs": [
    {
     "data": {
      "text/plain": [
       "['iris_classifier_knn.joblib']"
      ]
     },
     "execution_count": 20,
     "metadata": {},
     "output_type": "execute_result"
    }
   ],
   "source": [
    "import joblib\n",
    "joblib.dump(model, 'iris_classifier_knn.joblib')"
   ]
  },
  {
   "cell_type": "markdown",
   "id": "1600382f",
   "metadata": {},
   "source": [
    "- untuk melakukan joblib :\n",
    "> - import joblib\n",
    "> - dumping (deployment machine learning)\n",
    "> - joblib.dump(param1, param2)\n",
    ">> - parameter ke1 yaitu model\n",
    ">> - parameter ke2 yaitu nama file joblib."
   ]
  },
  {
   "cell_type": "markdown",
   "id": "20d5a49d",
   "metadata": {},
   "source": [
    "### Loading Model Machine Learning dari file joblib"
   ]
  },
  {
   "cell_type": "code",
   "execution_count": 19,
   "id": "330f91d7",
   "metadata": {},
   "outputs": [],
   "source": [
    "production_model = joblib.load('iris_classifier_knn.joblib')"
   ]
  },
  {
   "cell_type": "markdown",
   "id": "276d391a",
   "metadata": {},
   "source": [
    "`joblib.load` digunakan untuk deployment ke server production yang siap digunakan."
   ]
  },
  {
   "cell_type": "code",
   "execution_count": null,
   "id": "20e633a3",
   "metadata": {},
   "outputs": [],
   "source": []
  }
 ],
 "metadata": {
  "kernelspec": {
   "display_name": "Python 3",
   "language": "python",
   "name": "python3"
  },
  "language_info": {
   "codemirror_mode": {
    "name": "ipython",
    "version": 3
   },
   "file_extension": ".py",
   "mimetype": "text/x-python",
   "name": "python",
   "nbconvert_exporter": "python",
   "pygments_lexer": "ipython3",
   "version": "3.8.8"
  }
 },
 "nbformat": 4,
 "nbformat_minor": 5
}
