{
 "cells": [
  {
   "cell_type": "markdown",
   "id": "0ba91955",
   "metadata": {},
   "source": [
    "# Pertemuan 3 Data Science 04\n",
    "## 04 Data Preprocessing dengan Scikit-Learn\n",
    "## Sumber : https://youtu.be/smNnhEd26Ek"
   ]
  },
  {
   "cell_type": "markdown",
   "id": "0509fb85",
   "metadata": {},
   "source": [
    "### Sample Data"
   ]
  },
  {
   "cell_type": "code",
   "execution_count": 1,
   "id": "27964c34",
   "metadata": {},
   "outputs": [
    {
     "data": {
      "text/plain": [
       "array([[ 2.1, -1.9,  5.5],\n",
       "       [-1.5,  2.4,  3.5],\n",
       "       [ 0.5, -7.9,  5.6],\n",
       "       [ 5.9,  2.3, -5.8]])"
      ]
     },
     "execution_count": 1,
     "metadata": {},
     "output_type": "execute_result"
    }
   ],
   "source": [
    "import numpy as np\n",
    "from sklearn import preprocessing\n",
    "\n",
    "sample_data = np.array([[2.1,-1.9,5.5],\n",
    "                       [-1.5,2.4,3.5],\n",
    "                       [0.5,-7.9,5.6],\n",
    "                       [5.9,2.3,-5.8]])\n",
    "\n",
    "sample_data"
   ]
  },
  {
   "cell_type": "code",
   "execution_count": 2,
   "id": "eb8d1233",
   "metadata": {},
   "outputs": [
    {
     "data": {
      "text/plain": [
       "(4, 3)"
      ]
     },
     "execution_count": 2,
     "metadata": {},
     "output_type": "execute_result"
    }
   ],
   "source": [
    "sample_data.shape"
   ]
  },
  {
   "cell_type": "markdown",
   "id": "de763c28",
   "metadata": {},
   "source": [
    "- teknik data processing.\n",
    "> data set ini disebut features bila di lihat ada 4 (dilihat dari baris, dari data setnya isinya ada 3.\n",
    "> cara melihat dimensinya menggunakan `.shape`. jumlah baris ada 4 dan kolomnya ada 3."
   ]
  },
  {
   "cell_type": "markdown",
   "id": "dcb28b35",
   "metadata": {},
   "source": [
    "### Binarisation"
   ]
  },
  {
   "cell_type": "code",
   "execution_count": 3,
   "id": "55cd9a85",
   "metadata": {},
   "outputs": [
    {
     "data": {
      "text/plain": [
       "array([[ 2.1, -1.9,  5.5],\n",
       "       [-1.5,  2.4,  3.5],\n",
       "       [ 0.5, -7.9,  5.6],\n",
       "       [ 5.9,  2.3, -5.8]])"
      ]
     },
     "execution_count": 3,
     "metadata": {},
     "output_type": "execute_result"
    }
   ],
   "source": [
    "sample_data"
   ]
  },
  {
   "cell_type": "code",
   "execution_count": 5,
   "id": "e7c771b8",
   "metadata": {},
   "outputs": [
    {
     "data": {
      "text/plain": [
       "array([[1., 0., 1.],\n",
       "       [0., 1., 1.],\n",
       "       [0., 0., 1.],\n",
       "       [1., 1., 0.]])"
      ]
     },
     "execution_count": 5,
     "metadata": {},
     "output_type": "execute_result"
    }
   ],
   "source": [
    "preprocessor = preprocessing.Binarizer(threshold = 0.5)\n",
    "binarised_data = preprocessor.transform(sample_data)\n",
    "binarised_data"
   ]
  },
  {
   "cell_type": "markdown",
   "id": "5abceb27",
   "metadata": {},
   "source": [
    "- Binarisation adalah untuk menghasilkan suatu data yang menghasilkan dua numerik saja.\n",
    "> cara binarisation\n",
    "> - `preprocessing.Binarizer(threshold = 0.5)` digunakan untuk membuat binarizer dan memerlukan parameter `threshold` yang digunakan untuk melakukan batasan. bila lebih kecil dari threshold maka nilainya menjadi 0 bila lebih besar dari pada thresholdnya maka nilainya menjadi 1.\n",
    "> - `preprocessor.transform(sample_data)` digunakan untuk transformasi data dan memerlukan parameter `sample_data`"
   ]
  },
  {
   "cell_type": "markdown",
   "id": "15d83e85",
   "metadata": {},
   "source": [
    "### Scaling"
   ]
  },
  {
   "cell_type": "code",
   "execution_count": 6,
   "id": "39c82cab",
   "metadata": {},
   "outputs": [
    {
     "data": {
      "text/plain": [
       "array([[ 2.1, -1.9,  5.5],\n",
       "       [-1.5,  2.4,  3.5],\n",
       "       [ 0.5, -7.9,  5.6],\n",
       "       [ 5.9,  2.3, -5.8]])"
      ]
     },
     "execution_count": 6,
     "metadata": {},
     "output_type": "execute_result"
    }
   ],
   "source": [
    "sample_data"
   ]
  },
  {
   "cell_type": "code",
   "execution_count": 8,
   "id": "00a47c1e",
   "metadata": {},
   "outputs": [
    {
     "data": {
      "text/plain": [
       "array([[0.48648649, 0.58252427, 0.99122807],\n",
       "       [0.        , 1.        , 0.81578947],\n",
       "       [0.27027027, 0.        , 1.        ],\n",
       "       [1.        , 0.99029126, 0.        ]])"
      ]
     },
     "execution_count": 8,
     "metadata": {},
     "output_type": "execute_result"
    }
   ],
   "source": [
    "preprocessor = preprocessing.MinMaxScaler(feature_range =(0,1))\n",
    "preprocessor.fit(sample_data)\n",
    "scaled_data = preprocessor.transform(sample_data)\n",
    "scaled_data"
   ]
  },
  {
   "cell_type": "code",
   "execution_count": 10,
   "id": "f577fc95",
   "metadata": {},
   "outputs": [
    {
     "data": {
      "text/plain": [
       "array([[0.48648649, 0.58252427, 0.99122807],\n",
       "       [0.        , 1.        , 0.81578947],\n",
       "       [0.27027027, 0.        , 1.        ],\n",
       "       [1.        , 0.99029126, 0.        ]])"
      ]
     },
     "execution_count": 10,
     "metadata": {},
     "output_type": "execute_result"
    }
   ],
   "source": [
    "scaled_data = preprocessor.fit_transform(sample_data)\n",
    "scaled_data"
   ]
  },
  {
   "cell_type": "markdown",
   "id": "4e2fb959",
   "metadata": {},
   "source": [
    "Scaling adalah menghasilkan data numerik pada bentuk skala tertentu.\n",
    "> cara membuat scaling\n",
    "> - `preprocessing.MinMaxScaler(feature_range =(0,1))` digunakan untuk mengubah skala terkecil dan terbesar keskala tertentu. dan memerlukan parameter yaitu `(feature_range =(0,1))` yang digunakan untuk memberikan batasan skalanya.  `feature_range` membutuhkan value bentuk data tupple, yang dimana nilai pertama nilai terkecil, dan nilai kedua adalah nilai terbesar\n",
    "> - `preprocessor.fit(sample_data)` dan memerlukan parameter yaitu `sample_data`\n",
    "> - proses fitting dan transform dapat disatukan dengan cara `preprocessor.fit_transform(sample_data)`  dan membutuhakan parameter `sample data`"
   ]
  },
  {
   "cell_type": "markdown",
   "id": "aa921b14",
   "metadata": {},
   "source": [
    "### L1 Normalisation : Least Absolute Deviations"
   ]
  },
  {
   "cell_type": "code",
   "execution_count": 11,
   "id": "c44e8863",
   "metadata": {},
   "outputs": [
    {
     "data": {
      "text/plain": [
       "array([[ 2.1, -1.9,  5.5],\n",
       "       [-1.5,  2.4,  3.5],\n",
       "       [ 0.5, -7.9,  5.6],\n",
       "       [ 5.9,  2.3, -5.8]])"
      ]
     },
     "execution_count": 11,
     "metadata": {},
     "output_type": "execute_result"
    }
   ],
   "source": [
    "sample_data"
   ]
  },
  {
   "cell_type": "code",
   "execution_count": 12,
   "id": "570d8591",
   "metadata": {},
   "outputs": [
    {
     "data": {
      "text/plain": [
       "array([[ 0.22105263, -0.2       ,  0.57894737],\n",
       "       [-0.2027027 ,  0.32432432,  0.47297297],\n",
       "       [ 0.03571429, -0.56428571,  0.4       ],\n",
       "       [ 0.42142857,  0.16428571, -0.41428571]])"
      ]
     },
     "execution_count": 12,
     "metadata": {},
     "output_type": "execute_result"
    }
   ],
   "source": [
    "l1_normalised_data = preprocessing.normalize(sample_data, norm = 'l1')\n",
    "l1_normalised_data"
   ]
  },
  {
   "cell_type": "markdown",
   "id": "8ddf5606",
   "metadata": {},
   "source": [
    "Normalisation least absoulute deviations adalah melakukan normalisasi.\n",
    "> cara membuatnya\n",
    "> - `preprocessing.normalize(sample_data, norm = 'l1')` dan membutuhkan dua parameter. parameter pertama yaitu `sample_data`nya dan parameter kedua yaitu `norm = 'l1'` digunakan untuk memberikan style normalisasinya.  value `l1` ini berasosiasi Least Absolute Deviations"
   ]
  },
  {
   "cell_type": "markdown",
   "id": "f35b6e74",
   "metadata": {},
   "source": [
    "### L2 Normalisation : Least Squares"
   ]
  },
  {
   "cell_type": "code",
   "execution_count": 13,
   "id": "cbb0354f",
   "metadata": {},
   "outputs": [
    {
     "data": {
      "text/plain": [
       "array([[ 2.1, -1.9,  5.5],\n",
       "       [-1.5,  2.4,  3.5],\n",
       "       [ 0.5, -7.9,  5.6],\n",
       "       [ 5.9,  2.3, -5.8]])"
      ]
     },
     "execution_count": 13,
     "metadata": {},
     "output_type": "execute_result"
    }
   ],
   "source": [
    "sample_data"
   ]
  },
  {
   "cell_type": "code",
   "execution_count": 15,
   "id": "e27724fe",
   "metadata": {},
   "outputs": [
    {
     "data": {
      "text/plain": [
       "array([[ 0.33946114, -0.30713151,  0.88906489],\n",
       "       [-0.33325106,  0.53320169,  0.7775858 ],\n",
       "       [ 0.05156558, -0.81473612,  0.57753446],\n",
       "       [ 0.68706914,  0.26784051, -0.6754239 ]])"
      ]
     },
     "execution_count": 15,
     "metadata": {},
     "output_type": "execute_result"
    }
   ],
   "source": [
    "l2_normalised_data = preprocessing.normalize(sample_data, norm = 'l2')\n",
    "l2_normalised_data"
   ]
  },
  {
   "cell_type": "markdown",
   "id": "f097c3c5",
   "metadata": {},
   "source": [
    "- cara membuatnya sama dengan normalisasi L1, yang membedakan di `norm`, dengan memberikan value `l2`"
   ]
  },
  {
   "cell_type": "code",
   "execution_count": null,
   "id": "07564059",
   "metadata": {},
   "outputs": [],
   "source": []
  }
 ],
 "metadata": {
  "kernelspec": {
   "display_name": "Python 3 (ipykernel)",
   "language": "python",
   "name": "python3"
  },
  "language_info": {
   "codemirror_mode": {
    "name": "ipython",
    "version": 3
   },
   "file_extension": ".py",
   "mimetype": "text/x-python",
   "name": "python",
   "nbconvert_exporter": "python",
   "pygments_lexer": "ipython3",
   "version": "3.9.7"
  }
 },
 "nbformat": 4,
 "nbformat_minor": 5
}
