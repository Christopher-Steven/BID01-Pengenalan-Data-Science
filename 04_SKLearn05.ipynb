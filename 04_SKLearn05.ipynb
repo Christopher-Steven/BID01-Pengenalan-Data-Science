{
 "cells": [
  {
   "cell_type": "markdown",
   "id": "41a030ec",
   "metadata": {},
   "source": [
    "# Pertemuan 04 Data Sciece 05\n",
    "## Simple Liner Regressionn\n",
    "## Sumber : https://youtu.be/lcjq7-2zMSA"
   ]
  },
  {
   "cell_type": "markdown",
   "id": "d9932ab9",
   "metadata": {},
   "source": [
    "#### Simple Linear Regression adalah sebuah hubungan antara sebuah response varible dengan sebuah explanatory variable sebagai suatu garis lurus (linear), model ini terkenal dengan machine learning pertama."
   ]
  },
  {
   "cell_type": "markdown",
   "id": "b1b9a8d4",
   "metadata": {},
   "source": [
    "### Sample Dataset"
   ]
  },
  {
   "cell_type": "code",
   "execution_count": 2,
   "id": "b09bce8b",
   "metadata": {},
   "outputs": [
    {
     "data": {
      "text/html": [
       "<div>\n",
       "<style scoped>\n",
       "    .dataframe tbody tr th:only-of-type {\n",
       "        vertical-align: middle;\n",
       "    }\n",
       "\n",
       "    .dataframe tbody tr th {\n",
       "        vertical-align: top;\n",
       "    }\n",
       "\n",
       "    .dataframe thead th {\n",
       "        text-align: right;\n",
       "    }\n",
       "</style>\n",
       "<table border=\"1\" class=\"dataframe\">\n",
       "  <thead>\n",
       "    <tr style=\"text-align: right;\">\n",
       "      <th></th>\n",
       "      <th>diameter</th>\n",
       "      <th>harga</th>\n",
       "    </tr>\n",
       "  </thead>\n",
       "  <tbody>\n",
       "    <tr>\n",
       "      <th>0</th>\n",
       "      <td>6</td>\n",
       "      <td>7.0</td>\n",
       "    </tr>\n",
       "    <tr>\n",
       "      <th>1</th>\n",
       "      <td>8</td>\n",
       "      <td>9.0</td>\n",
       "    </tr>\n",
       "    <tr>\n",
       "      <th>2</th>\n",
       "      <td>10</td>\n",
       "      <td>13.0</td>\n",
       "    </tr>\n",
       "    <tr>\n",
       "      <th>3</th>\n",
       "      <td>14</td>\n",
       "      <td>17.5</td>\n",
       "    </tr>\n",
       "    <tr>\n",
       "      <th>4</th>\n",
       "      <td>18</td>\n",
       "      <td>18.0</td>\n",
       "    </tr>\n",
       "  </tbody>\n",
       "</table>\n",
       "</div>"
      ],
      "text/plain": [
       "   diameter  harga\n",
       "0         6    7.0\n",
       "1         8    9.0\n",
       "2        10   13.0\n",
       "3        14   17.5\n",
       "4        18   18.0"
      ]
     },
     "execution_count": 2,
     "metadata": {},
     "output_type": "execute_result"
    }
   ],
   "source": [
    "import pandas as pd\n",
    "pizza = {'diameter' : [6,8,10,14,18], 'harga' : [7,9,13,17.5,18]}\n",
    "pizza_df = pd.DataFrame(pizza)\n",
    "pizza_df"
   ]
  },
  {
   "cell_type": "markdown",
   "id": "811e5877",
   "metadata": {},
   "source": [
    "- data ini akan melakukan prediksi harga, diameter sebagai feature dan harga sebagai target"
   ]
  },
  {
   "cell_type": "markdown",
   "id": "bed0a7cb",
   "metadata": {},
   "source": [
    "### Visualisasi Data"
   ]
  },
  {
   "cell_type": "code",
   "execution_count": 3,
   "id": "a01cb9b9",
   "metadata": {},
   "outputs": [
    {
     "data": {
      "image/png": "[encoded data removed]",
      "text/plain": [
       "<Figure size 432x288 with 1 Axes>"
      ]
     },
     "metadata": {
      "needs_background": "light"
     },
     "output_type": "display_data"
    }
   ],
   "source": [
    "import matplotlib.pyplot as plt\n",
    "pizza_df.plot(kind='scatter',x='diameter',y='harga')\n",
    "plt.title('perbandingan diameter dan Harga Pizza')\n",
    "plt.xlabel ('Diameter (inch)')\n",
    "plt.ylabel ('Harga (dollar)')\n",
    "plt.xlim (0,25)\n",
    "plt.ylim (0,25)\n",
    "plt.grid(True)\n",
    "plt.show()"
   ]
  },
  {
   "cell_type": "markdown",
   "id": "e34cbf11",
   "metadata": {},
   "source": [
    "untuk melakukan visualisasi data perlu membuat plot berbentuk scatter plot. dengan sumbu xnya yaitu diameter dan sumbu ynya yaitu harga "
   ]
  },
  {
   "cell_type": "markdown",
   "id": "cf29fc9a",
   "metadata": {},
   "source": [
    "### Simple Linear Regression Model"
   ]
  },
  {
   "cell_type": "markdown",
   "id": "9bf487fb",
   "metadata": {},
   "source": [
    "### Penyesuaian Dataset"
   ]
  },
  {
   "cell_type": "code",
   "execution_count": 4,
   "id": "cf46c003",
   "metadata": {},
   "outputs": [
    {
     "name": "stdout",
     "output_type": "stream",
     "text": [
      "X: [ 6  8 10 14 18]\n",
      "y:[ 7.   9.  13.  17.5 18. ]\n"
     ]
    }
   ],
   "source": [
    "import numpy as np\n",
    "X = np.array(pizza_df['diameter'])\n",
    "y = np.array(pizza_df['harga'])\n",
    "\n",
    "print(f'X: {X}')\n",
    "print(f'y:{y}')\n"
   ]
  },
  {
   "cell_type": "code",
   "execution_count": 5,
   "id": "7fad10b7",
   "metadata": {},
   "outputs": [
    {
     "data": {
      "text/plain": [
       "(5, 1)"
      ]
     },
     "execution_count": 5,
     "metadata": {},
     "output_type": "execute_result"
    }
   ],
   "source": [
    "X = X.reshape(-1,1)\n",
    "X.shape"
   ]
  },
  {
   "cell_type": "markdown",
   "id": "4710fef0",
   "metadata": {},
   "source": [
    "- data perlu dilakukan penyesuaian dengan cara memisahkan menggunakan numpy array. numpy array masih berbentuk satu dimensi, tapi meachine learning memerlukan dua dimensi, maka dari itu perlu reshaping\n",
    "- X.reshape digunakan untuk mengubah menjadi dua dimensi atau melakukan tranformasi array. Reshaping Memerlukan dua value yaitu `(-1, 1)` value ini digunakan untuk melakukan reshape dua dimensi."
   ]
  },
  {
   "cell_type": "code",
   "execution_count": 6,
   "id": "91bc8949",
   "metadata": {},
   "outputs": [
    {
     "data": {
      "text/plain": [
       "array([[ 6],\n",
       "       [ 8],\n",
       "       [10],\n",
       "       [14],\n",
       "       [18]], dtype=int64)"
      ]
     },
     "execution_count": 6,
     "metadata": {},
     "output_type": "execute_result"
    }
   ],
   "source": [
    "X"
   ]
  },
  {
   "cell_type": "markdown",
   "id": "42653d5e",
   "metadata": {},
   "source": [
    "### Training Simple Linaer Regression Model"
   ]
  },
  {
   "cell_type": "code",
   "execution_count": 8,
   "id": "12a1c9b2",
   "metadata": {},
   "outputs": [
    {
     "data": {
      "text/plain": [
       "LinearRegression()"
      ]
     },
     "execution_count": 8,
     "metadata": {},
     "output_type": "execute_result"
    }
   ],
   "source": [
    "from sklearn.linear_model import LinearRegression\n",
    "\n",
    "model = LinearRegression()\n",
    "model.fit(X,y)"
   ]
  },
  {
   "cell_type": "markdown",
   "id": "c52cd756",
   "metadata": {},
   "source": [
    "LinearRegression digunakan untuk training model."
   ]
  },
  {
   "cell_type": "markdown",
   "id": "61f5cb9a",
   "metadata": {},
   "source": [
    "### Visualisasi SImple Linear Regression Model"
   ]
  },
  {
   "cell_type": "code",
   "execution_count": 11,
   "id": "14df046b",
   "metadata": {},
   "outputs": [],
   "source": [
    "X_vis = np.array([0,25]).reshape(-1,1)\n",
    "y_vis = model.predict(X_vis)"
   ]
  },
  {
   "cell_type": "code",
   "execution_count": 12,
   "id": "0e26cb7a",
   "metadata": {},
   "outputs": [
    {
     "data": {
      "image/png": "[encoded data removed]",
      "text/plain": [
       "<Figure size 432x288 with 1 Axes>"
      ]
     },
     "metadata": {
      "needs_background": "light"
     },
     "output_type": "display_data"
    }
   ],
   "source": [
    "plt.scatter(X,y)\n",
    "plt.plot(X_vis, y_vis, '-r')\n",
    "\n",
    "plt.title('Perbandingan DIameter dan Harga Pizza')\n",
    "plt.xlabel('Diameter (inch)')\n",
    "plt.ylabel('harga (dollar)')\n",
    "plt.xlim (0,25)\n",
    "plt.ylim (0,25)\n",
    "plt.grid(True)\n",
    "plt.show()"
   ]
  },
  {
   "cell_type": "markdown",
   "id": "9c85defe",
   "metadata": {},
   "source": [
    "- linear model akan berbentuk garis lurus.\n",
    "- `X_vis` adalah sebuah feature digunakan untuk melakukan garis linear dan perlu di reshape, y_vis adalah sebuah target yang akan di prediksi dari `X_vis`.\n",
    "- setelah itu melakukan proses visualisasi.\n",
    "- `plt.scatter (X,y)` digunakan untuk menentukan value (dot biru)\n",
    "- `plt.plot` digunakanuntuk melakukan tarik garis merah. `'-r'` digunakan untuk garis merahnya."
   ]
  },
  {
   "cell_type": "markdown",
   "id": "0906182e",
   "metadata": {},
   "source": [
    "#### Forumla Linear Regression : $\\gamma = \\alpha + \\beta x$\n",
    "- $\\gamma$ : response variable\n",
    "- x : explanatery variable\n",
    "- $\\alpha$ : intercept\n",
    "- $\\beta$ : slope"
   ]
  },
  {
   "cell_type": "code",
   "execution_count": 16,
   "id": "cd143d87",
   "metadata": {},
   "outputs": [
    {
     "name": "stdout",
     "output_type": "stream",
     "text": [
      "intercept : 1.965517241379315\n",
      "slope: [0.9762931]\n"
     ]
    }
   ],
   "source": [
    "print(f'intercept : {model.intercept_}')\n",
    "print(f'slope: {model.coef_}')"
   ]
  },
  {
   "cell_type": "markdown",
   "id": "14c6efe7",
   "metadata": {},
   "source": [
    "- response variable atau target\n",
    "- explanatery variable atau feature\n",
    "- intercept yaitu titik dari sumbu y dimana garis linear menabrak atau nilai sumbu y yang bernilai 0\n",
    "- slope yaitu akan berpengaruh pada garis kemiringan dari garis linear yang terbentuk."
   ]
  },
  {
   "cell_type": "markdown",
   "id": "ad7f54fe",
   "metadata": {},
   "source": [
    "#### Mencari nilai Slope"
   ]
  },
  {
   "cell_type": "markdown",
   "id": "d70b4df8",
   "metadata": {},
   "source": [
    "Nilai slope pada Linear Regresssion bisa diperoleh dengan menmanfaatkan formula berikut :\n"
   ]
  },
  {
   "cell_type": "markdown",
   "id": "ff669636",
   "metadata": {},
   "source": [
    "# $\\beta = \\frac{x,y}{var(x)}$"
   ]
  },
  {
   "cell_type": "code",
   "execution_count": 19,
   "id": "83c79e4e",
   "metadata": {},
   "outputs": [
    {
     "name": "stdout",
     "output_type": "stream",
     "text": [
      "X:\n",
      "[[ 6]\n",
      " [ 8]\n",
      " [10]\n",
      " [14]\n",
      " [18]]\n",
      "\n",
      "X flatten:[ 6  8 10 14 18]\n",
      "\n",
      "y:[ 7.   9.  13.  17.5 18. ]\n"
     ]
    }
   ],
   "source": [
    "print(f'X:\\n{X}\\n')\n",
    "print(f'X flatten:{X.flatten()}\\n')\n",
    "print(f'y:{y}')"
   ]
  },
  {
   "cell_type": "markdown",
   "id": "a4794409",
   "metadata": {},
   "source": [
    "- nilai slop dapat di lihat dari formula di atas. nilai x merepresentasikan nilai features, dan nilai y merepresentasikan nilai target.\n",
    "- `flatten` digunakan untuk mengembalikan kebentuk asal / meratakan kembali."
   ]
  },
  {
   "cell_type": "markdown",
   "id": "5d58d421",
   "metadata": {},
   "source": [
    "### Variance"
   ]
  },
  {
   "cell_type": "code",
   "execution_count": 9,
   "id": "2e9f2b71",
   "metadata": {},
   "outputs": [
    {
     "name": "stdout",
     "output_type": "stream",
     "text": [
      "variance:23.2\n"
     ]
    }
   ],
   "source": [
    "variance_x = np.var(X.flatten(), ddof = 1)\n",
    "print(f'variance:{variance_x}')"
   ]
  },
  {
   "cell_type": "markdown",
   "id": "925db81f",
   "metadata": {},
   "source": [
    "untuk melakukan variance dapat menggunakan `np.var` yang membutuhkan 2 parameter yaitu :\n",
    "- paramter pertama yaitu `X.flatten()`\n",
    "- parameter kedua yaitu `ddof = 1`. ddof adalah degre of freedom"
   ]
  },
  {
   "cell_type": "markdown",
   "id": "a60b88c6",
   "metadata": {},
   "source": [
    "### Covariance"
   ]
  },
  {
   "cell_type": "code",
   "execution_count": 22,
   "id": "93840e22",
   "metadata": {},
   "outputs": [
    {
     "data": {
      "text/plain": [
       "array([[23.2 , 22.65],\n",
       "       [22.65, 24.3 ]])"
      ]
     },
     "execution_count": 22,
     "metadata": {},
     "output_type": "execute_result"
    }
   ],
   "source": [
    "np.cov(X.flatten(),y)"
   ]
  },
  {
   "cell_type": "code",
   "execution_count": 7,
   "id": "1fe37cb5",
   "metadata": {},
   "outputs": [
    {
     "name": "stdout",
     "output_type": "stream",
     "text": [
      "covariance :22.650000000000002\n"
     ]
    }
   ],
   "source": [
    "covariance_xy = np.cov(X.flatten(), y)[0][1]\n",
    "\n",
    "print(f'covariance :{covariance_xy}')"
   ]
  },
  {
   "cell_type": "markdown",
   "id": "1ea233b3",
   "metadata": {},
   "source": [
    "untuk melakukan Covariance dapat menggunakan `np.cov` yang membutuhkan 2 parameter yaitu :\n",
    "- parameter pertama yaitu X.flatten()\n",
    "- parameter kedua yaitu y atau target.\n",
    "\n",
    "menggunakan `np.cov` akan menghasilkan Covariance Matrixs, pelu di ambil pada dimensi pertama yaitu index ke-0 dan dimensi kedua yaitu index ke-1 yang nanti akan ditampung menjadi variable `covariance_xy`.\n",
    "\n"
   ]
  },
  {
   "cell_type": "markdown",
   "id": "0246be57",
   "metadata": {},
   "source": [
    "### slope"
   ]
  },
  {
   "cell_type": "code",
   "execution_count": 10,
   "id": "ade371f9",
   "metadata": {},
   "outputs": [
    {
     "name": "stdout",
     "output_type": "stream",
     "text": [
      "slope : 0.976293103448276\n"
     ]
    }
   ],
   "source": [
    "slope = covariance_xy / variance_x\n",
    "print(f'slope : {slope}')"
   ]
  },
  {
   "cell_type": "markdown",
   "id": "e0bd2418",
   "metadata": {},
   "source": [
    "slop akan menggunakan 2 variable yaitu `covariance_xy` dan menggunakan `variance_x`"
   ]
  },
  {
   "cell_type": "markdown",
   "id": "930ce8bc",
   "metadata": {},
   "source": [
    "### Mencari nilai intercept"
   ]
  },
  {
   "cell_type": "markdown",
   "id": "bf44c280",
   "metadata": {},
   "source": [
    "Nilai intercept pada Linear Regression bisa diperoleh dengan memeanfaatkan formula berikut :"
   ]
  },
  {
   "cell_type": "markdown",
   "id": "343e49dc",
   "metadata": {},
   "source": [
    "# $\\alpha = ^-_y - \\beta^-_x$"
   ]
  },
  {
   "cell_type": "code",
   "execution_count": 28,
   "id": "b9ffbd2c",
   "metadata": {},
   "outputs": [
    {
     "name": "stdout",
     "output_type": "stream",
     "text": [
      "intercept:1.9655172413793096\n"
     ]
    }
   ],
   "source": [
    "intercept = np.mean(y) - slope * np.mean(X)\n",
    "print(f'intercept:{intercept}')"
   ]
  },
  {
   "cell_type": "markdown",
   "id": "e9bfb022",
   "metadata": {},
   "source": [
    "menyelesihkan rata rata dari target diselisihkan perkalian dari slop dan rata rata featrue"
   ]
  },
  {
   "cell_type": "markdown",
   "id": "58054cfc",
   "metadata": {},
   "source": [
    "### Prediksi Harga Pizza\n"
   ]
  },
  {
   "cell_type": "code",
   "execution_count": 30,
   "id": "36660c52",
   "metadata": {},
   "outputs": [
    {
     "data": {
      "text/plain": [
       "array([[12],\n",
       "       [20],\n",
       "       [23]])"
      ]
     },
     "execution_count": 30,
     "metadata": {},
     "output_type": "execute_result"
    }
   ],
   "source": [
    "diameter_pizza = np.array([12,20,23]).reshape(-1,1)\n",
    "diameter_pizza"
   ]
  },
  {
   "cell_type": "markdown",
   "id": "9debe155",
   "metadata": {},
   "source": [
    "memprediksi 3 nilai freature. dengan mengubah dari satu dimensi menjadi dua dimensi"
   ]
  },
  {
   "cell_type": "code",
   "execution_count": 31,
   "id": "77792f0c",
   "metadata": {},
   "outputs": [
    {
     "data": {
      "text/plain": [
       "array([13.68103448, 21.49137931, 24.42025862])"
      ]
     },
     "execution_count": 31,
     "metadata": {},
     "output_type": "execute_result"
    }
   ],
   "source": [
    "prediksi_harga = model.predict(diameter_pizza)\n",
    "prediksi_harga"
   ]
  },
  {
   "cell_type": "markdown",
   "id": "785727f1",
   "metadata": {},
   "source": [
    "melakukan prediksi dengan mengambil freature"
   ]
  },
  {
   "cell_type": "code",
   "execution_count": 34,
   "id": "fd2c6adb",
   "metadata": {},
   "outputs": [
    {
     "name": "stdout",
     "output_type": "stream",
     "text": [
      "Diameter : [12] prediksi harga : 13.681034482758621\n",
      "Diameter : [20] prediksi harga : 21.491379310344826\n",
      "Diameter : [23] prediksi harga : 24.42025862068965\n"
     ]
    }
   ],
   "source": [
    "for dmtr, hrg in zip(diameter_pizza, prediksi_harga) :\n",
    "    print(f'Diameter : {dmtr} prediksi harga : {hrg}')"
   ]
  },
  {
   "cell_type": "markdown",
   "id": "641cf003",
   "metadata": {},
   "source": [
    "hasil prediksi bila di satukan"
   ]
  },
  {
   "cell_type": "markdown",
   "id": "945f767f",
   "metadata": {},
   "source": [
    "### Evaluasi Simple Linear Regression Model\n",
    "melakukan evaluasi performa dari linear regression"
   ]
  },
  {
   "cell_type": "markdown",
   "id": "8b8806b5",
   "metadata": {},
   "source": [
    "#### Training & Testing Dataset"
   ]
  },
  {
   "cell_type": "code",
   "execution_count": 35,
   "id": "a5ed47a7",
   "metadata": {},
   "outputs": [],
   "source": [
    "X_train = np.array([6,8,10,14,18]).reshape(-1,1)\n",
    "y_train = np.array([7,9,13,17.5,18])\n",
    "\n",
    "X_test = np.array([8,9,11,16,12]).reshape(-1,1)\n",
    "y_test = np.array([11,8.5,15,18,11])"
   ]
  },
  {
   "cell_type": "markdown",
   "id": "e9a3cc16",
   "metadata": {},
   "source": [
    "melakukan training dan test, feature perlu diubah menjadi dua dimensi dengan menggunakan rehaping."
   ]
  },
  {
   "cell_type": "markdown",
   "id": "2d13ce48",
   "metadata": {},
   "source": [
    "#### Training SImple Linear Regression Model"
   ]
  },
  {
   "cell_type": "code",
   "execution_count": 37,
   "id": "816a84f1",
   "metadata": {},
   "outputs": [
    {
     "data": {
      "text/plain": [
       "LinearRegression()"
      ]
     },
     "execution_count": 37,
     "metadata": {},
     "output_type": "execute_result"
    }
   ],
   "source": [
    "model = LinearRegression()\n",
    "model.fit(X_train, y_train)"
   ]
  },
  {
   "cell_type": "markdown",
   "id": "e4849a43",
   "metadata": {},
   "source": [
    "membuat object model dan melakukan training "
   ]
  },
  {
   "cell_type": "markdown",
   "id": "523b7ded",
   "metadata": {},
   "source": [
    "#### Evaluasi Linear Regression Model dengan Coefficient of Determination atau R-Squared ($R^2$)"
   ]
  },
  {
   "cell_type": "code",
   "execution_count": 40,
   "id": "eca28d6a",
   "metadata": {},
   "outputs": [
    {
     "name": "stdout",
     "output_type": "stream",
     "text": [
      "R-squared : 0.6620052929422553\n"
     ]
    }
   ],
   "source": [
    "from sklearn.metrics import r2_score\n",
    "\n",
    "y_pred = model.predict(X_test)\n",
    "r_squared = r2_score(y_test, y_pred)\n",
    "\n",
    "print(f'R-squared : {r_squared}')"
   ]
  },
  {
   "cell_type": "markdown",
   "id": "7c3e90e2",
   "metadata": {},
   "source": [
    "untuk membuat coefficient of determinantion perlu melakukan prediksi nilai target dari feature X_test.\n",
    "\n",
    "proses `r2_score` memerlukan nilai target dan hasil prediksi dari feature, hasilnya bila nilai mendekati 1 semakin baik, bila menjauhi dari 1 atau mendekat 0 maka nilainya buruk. bila buruk sekali maka hasilnya -0."
   ]
  },
  {
   "cell_type": "markdown",
   "id": "af06a85d",
   "metadata": {},
   "source": [
    "#### Mencari nilai R-squared ($R^2$)"
   ]
  },
  {
   "cell_type": "markdown",
   "id": "5a72c547",
   "metadata": {},
   "source": [
    "# $R^2 = 1 - \\frac{{SS}_{res}}{{SS}_{tot}}$ "
   ]
  },
  {
   "cell_type": "markdown",
   "id": "5259dcc4",
   "metadata": {},
   "source": [
    "# $\\mathrm{SSres} = \\sum_{i = 1}^{n}(y_i - f(x_i))^2$"
   ]
  },
  {
   "cell_type": "markdown",
   "id": "4b244c13",
   "metadata": {},
   "source": [
    "# $\\mathrm{SStot} = \\sum_{i=1}^n(y_i - y^-)^2 $"
   ]
  },
  {
   "cell_type": "markdown",
   "id": "5e8d9ab8",
   "metadata": {},
   "source": [
    " "
   ]
  },
  {
   "cell_type": "markdown",
   "id": "f33da451",
   "metadata": {},
   "source": [
    "## $\\mathrm{SSres}$ \n",
    "some square residual proses perhitungan selisih dari setiap nilai y pada testing set dengan nilai prediksi lalu di pangkat dua, bisa di bilang mencari akumuluasi nilai error"
   ]
  },
  {
   "cell_type": "code",
   "execution_count": 44,
   "id": "ca40c0f4",
   "metadata": {},
   "outputs": [
    {
     "name": "stdout",
     "output_type": "stream",
     "text": [
      "ss_res:19.1980993608799\n"
     ]
    }
   ],
   "source": [
    "ss_res = sum([(y_i - model.predict(x_i.reshape(-1,1))[0])**2\n",
    "            for x_i, y_i in zip(X_test, y_test)])\n",
    "print(f'ss_res:{ss_res}')"
   ]
  },
  {
   "cell_type": "markdown",
   "id": "fc296d06",
   "metadata": {},
   "source": [
    "## $\\mathrm{SStot}$\n",
    "some square total proses perhitungan selisih nilai untuk setiap nilai y dengan nilai rata ratanya lalu di pangkat dua lalu di akumuluasi. "
   ]
  },
  {
   "cell_type": "code",
   "execution_count": 50,
   "id": "13233d4a",
   "metadata": {},
   "outputs": [
    {
     "name": "stdout",
     "output_type": "stream",
     "text": [
      "ss_tot:56.8\n"
     ]
    }
   ],
   "source": [
    "mean_y = np.mean(y_test)\n",
    "ss_tot = sum([(y_i - mean_y)**2 for y_i in y_test])\n",
    "print(f'ss_tot:{ss_tot}')"
   ]
  },
  {
   "cell_type": "markdown",
   "id": "27174b7b",
   "metadata": {},
   "source": [
    "## $R^2$"
   ]
  },
  {
   "cell_type": "code",
   "execution_count": 54,
   "id": "35ef65ab",
   "metadata": {},
   "outputs": [
    {
     "name": "stdout",
     "output_type": "stream",
     "text": [
      "R-squared : 0.6620052929422553\n"
     ]
    }
   ],
   "source": [
    "r_squared = 1 - (ss_res / ss_tot)\n",
    "\n",
    "print(f'R-squared : {r_squared}')"
   ]
  }
 ],
 "metadata": {
  "kernelspec": {
   "display_name": "Python 3 (ipykernel)",
   "language": "python",
   "name": "python3"
  },
  "language_info": {
   "codemirror_mode": {
    "name": "ipython",
    "version": 3
   },
   "file_extension": ".py",
   "mimetype": "text/x-python",
   "name": "python",
   "nbconvert_exporter": "python",
   "pygments_lexer": "ipython3",
   "version": "3.9.7"
  }
 },
 "nbformat": 4,
 "nbformat_minor": 5
}
