{
 "cells": [
  {
   "cell_type": "markdown",
   "id": "30cd4cd9",
   "metadata": {},
   "source": [
    "# Pertemuan 5 Data Science 06\n",
    "## Classification dnegan K-Nearest Neighbours\n",
    "## Sumber : https://youtu.be/4zARMcgc7hA"
   ]
  },
  {
   "cell_type": "markdown",
   "id": "e01b77a4",
   "metadata": {},
   "source": [
    "### Classification Dengan KNN (K Nearest Neighbours)\n",
    "#### - KNN adalah model machine learning yang dapat digunakan untuk melakukan prediksi berdasarkan kedekatan karkteristik dengan sejumlah tetangga terdekat\n",
    "#### - Prediksi yang dilakukan dapat diterapkan baik pada classification maupun regression tasks."
   ]
  },
  {
   "cell_type": "markdown",
   "id": "3f03a32a",
   "metadata": {},
   "source": [
    "### Sample Dataset"
   ]
  },
  {
   "cell_type": "code",
   "execution_count": 4,
   "id": "1847cbc7",
   "metadata": {},
   "outputs": [
    {
     "data": {
      "text/html": [
       "<div>\n",
       "<style scoped>\n",
       "    .dataframe tbody tr th:only-of-type {\n",
       "        vertical-align: middle;\n",
       "    }\n",
       "\n",
       "    .dataframe tbody tr th {\n",
       "        vertical-align: top;\n",
       "    }\n",
       "\n",
       "    .dataframe thead th {\n",
       "        text-align: right;\n",
       "    }\n",
       "</style>\n",
       "<table border=\"1\" class=\"dataframe\">\n",
       "  <thead>\n",
       "    <tr style=\"text-align: right;\">\n",
       "      <th></th>\n",
       "      <th>tinggi</th>\n",
       "      <th>berat</th>\n",
       "      <th>jk</th>\n",
       "    </tr>\n",
       "  </thead>\n",
       "  <tbody>\n",
       "    <tr>\n",
       "      <th>0</th>\n",
       "      <td>185</td>\n",
       "      <td>64</td>\n",
       "      <td>pria</td>\n",
       "    </tr>\n",
       "    <tr>\n",
       "      <th>1</th>\n",
       "      <td>170</td>\n",
       "      <td>86</td>\n",
       "      <td>pria</td>\n",
       "    </tr>\n",
       "    <tr>\n",
       "      <th>2</th>\n",
       "      <td>183</td>\n",
       "      <td>84</td>\n",
       "      <td>pria</td>\n",
       "    </tr>\n",
       "    <tr>\n",
       "      <th>3</th>\n",
       "      <td>191</td>\n",
       "      <td>80</td>\n",
       "      <td>pria</td>\n",
       "    </tr>\n",
       "    <tr>\n",
       "      <th>4</th>\n",
       "      <td>155</td>\n",
       "      <td>49</td>\n",
       "      <td>wanita</td>\n",
       "    </tr>\n",
       "    <tr>\n",
       "      <th>5</th>\n",
       "      <td>163</td>\n",
       "      <td>59</td>\n",
       "      <td>wanita</td>\n",
       "    </tr>\n",
       "    <tr>\n",
       "      <th>6</th>\n",
       "      <td>180</td>\n",
       "      <td>67</td>\n",
       "      <td>wanita</td>\n",
       "    </tr>\n",
       "    <tr>\n",
       "      <th>7</th>\n",
       "      <td>158</td>\n",
       "      <td>54</td>\n",
       "      <td>wanita</td>\n",
       "    </tr>\n",
       "    <tr>\n",
       "      <th>8</th>\n",
       "      <td>178</td>\n",
       "      <td>67</td>\n",
       "      <td>wanita</td>\n",
       "    </tr>\n",
       "  </tbody>\n",
       "</table>\n",
       "</div>"
      ],
      "text/plain": [
       "   tinggi  berat      jk\n",
       "0     185     64    pria\n",
       "1     170     86    pria\n",
       "2     183     84    pria\n",
       "3     191     80    pria\n",
       "4     155     49  wanita\n",
       "5     163     59  wanita\n",
       "6     180     67  wanita\n",
       "7     158     54  wanita\n",
       "8     178     67  wanita"
      ]
     },
     "execution_count": 4,
     "metadata": {},
     "output_type": "execute_result"
    }
   ],
   "source": [
    "import pandas as pd\n",
    "sensus = {\n",
    "    'tinggi' : [185,170,183,191,155,163,180,158,178],\n",
    "    'berat' : [64,86,84,80,49,59,67,54,67],\n",
    "    'jk' : ['pria','pria','pria','pria','wanita','wanita','wanita','wanita','wanita']\n",
    "}\n",
    "sensus_df = pd.DataFrame(sensus)\n",
    "sensus_df"
   ]
  },
  {
   "cell_type": "markdown",
   "id": "b00dfcb4",
   "metadata": {},
   "source": [
    "### Visualisasi Data"
   ]
  },
  {
   "cell_type": "code",
   "execution_count": 7,
   "id": "faef94c2",
   "metadata": {},
   "outputs": [
    {
     "data": {
      "image/png": "[encoded data removed]",
      "text/plain": [
       "<Figure size 432x288 with 1 Axes>"
      ]
     },
     "metadata": {
      "needs_background": "light"
     },
     "output_type": "display_data"
    }
   ],
   "source": [
    "import matplotlib.pyplot as plt\n",
    "\n",
    "fig, ax = plt.subplots()\n",
    "for jk, d in sensus_df.groupby('jk'):\n",
    "    ax.scatter(d['tinggi'],d['berat'],label = jk)\n",
    "    \n",
    "plt.legend (loc='upper left')\n",
    "plt.title('sebaran data tinggi bada, berat badan, dan jenis kelamin')\n",
    "plt.xlabel('tinggi badan (cm)')\n",
    "plt.ylabel('berat badan (kg)')\n",
    "plt.grid(True)\n",
    "plt.show()"
   ]
  },
  {
   "cell_type": "markdown",
   "id": "0137c481",
   "metadata": {},
   "source": [
    "## Classification Dengan KNN"
   ]
  },
  {
   "cell_type": "markdown",
   "id": "89d3454d",
   "metadata": {},
   "source": [
    "### Preporcessing Dataset"
   ]
  },
  {
   "cell_type": "code",
   "execution_count": 9,
   "id": "31df64a5",
   "metadata": {},
   "outputs": [
    {
     "name": "stdout",
     "output_type": "stream",
     "text": [
      "X_train:n[[185  64]\n",
      " [170  86]\n",
      " [183  84]\n",
      " [191  80]\n",
      " [155  49]\n",
      " [163  59]\n",
      " [180  67]\n",
      " [158  54]\n",
      " [178  67]]\n",
      "\n",
      "y_train: ['pria' 'pria' 'pria' 'pria' 'wanita' 'wanita' 'wanita' 'wanita' 'wanita']\n"
     ]
    }
   ],
   "source": [
    "import numpy as np\n",
    "X_train = np.array(sensus_df[['tinggi','berat']])\n",
    "y_train = np.array(sensus_df['jk'])\n",
    "\n",
    "print(f'X_train:n{X_train}\\n')\n",
    "print(f'y_train: {y_train}')"
   ]
  },
  {
   "cell_type": "markdown",
   "id": "d41bf002",
   "metadata": {},
   "source": [
    "dataset yang diatas perlu di pisahkan terlebih dahulu dalam bentuk X_train dan y_train, X_train berisikan tinggi dan berat dan y_train berisisikan jenis kelamin. dalam bentuk ini X_train sudah dapat di training namun jenis kelamin belum"
   ]
  },
  {
   "cell_type": "code",
   "execution_count": 12,
   "id": "4612bced",
   "metadata": {},
   "outputs": [
    {
     "name": "stdout",
     "output_type": "stream",
     "text": [
      "y_train:\n",
      "[[0]\n",
      " [0]\n",
      " [0]\n",
      " [0]\n",
      " [1]\n",
      " [1]\n",
      " [1]\n",
      " [1]\n",
      " [1]]\n"
     ]
    }
   ],
   "source": [
    "from sklearn.preprocessing import LabelBinarizer\n",
    "\n",
    "lb = LabelBinarizer()\n",
    "y_train = lb.fit_transform(y_train)\n",
    "print(f'y_train:\\n{y_train}')"
   ]
  },
  {
   "cell_type": "markdown",
   "id": "0837ddf5",
   "metadata": {},
   "source": [
    "LabelBinarizer diguanakan untuk melakukan konvert dari bentuk string menjadi bentuk integer. namun bentuk ini masih dalam bentuk array dua dimensi"
   ]
  },
  {
   "cell_type": "code",
   "execution_count": 47,
   "id": "19d8b6ec",
   "metadata": {},
   "outputs": [
    {
     "name": "stdout",
     "output_type": "stream",
     "text": [
      "y_train:[0 0 0 0 1 1 1 1 1]\n"
     ]
    }
   ],
   "source": [
    "y_train = y_train.flatten()\n",
    "print(f'y_train:{y_train}')"
   ]
  },
  {
   "cell_type": "markdown",
   "id": "28c1fbd3",
   "metadata": {},
   "source": [
    "Mathod flatten digunakan untuk membuat menjadi satu dimensi"
   ]
  },
  {
   "cell_type": "markdown",
   "id": "f3ef16f3",
   "metadata": {},
   "source": [
    "### Training KNN Classification Model"
   ]
  },
  {
   "cell_type": "code",
   "execution_count": 15,
   "id": "5e521add",
   "metadata": {},
   "outputs": [
    {
     "data": {
      "text/plain": [
       "KNeighborsClassifier(n_neighbors=3)"
      ]
     },
     "execution_count": 15,
     "metadata": {},
     "output_type": "execute_result"
    }
   ],
   "source": [
    "from sklearn.neighbors import KNeighborsClassifier\n",
    "\n",
    "K = 3\n",
    "model = KNeighborsClassifier(n_neighbors = K)\n",
    "model.fit(X_train,y_train)"
   ]
  },
  {
   "cell_type": "markdown",
   "id": "c1062dbb",
   "metadata": {},
   "source": [
    "KNeighborsClassifier digunakan untuk menjadi classifier task,\n",
    "perlu membuat parameter K, yang digunakan untuk menentukan jumlah tetangga terdekat yang akan dilibatkan untuk proses prediksi."
   ]
  },
  {
   "cell_type": "markdown",
   "id": "d874084c",
   "metadata": {},
   "source": [
    "### Prediksi jenis kelamin"
   ]
  },
  {
   "cell_type": "code",
   "execution_count": 16,
   "id": "36f778b2",
   "metadata": {},
   "outputs": [
    {
     "data": {
      "text/plain": [
       "array([[155,  70]])"
      ]
     },
     "execution_count": 16,
     "metadata": {},
     "output_type": "execute_result"
    }
   ],
   "source": [
    "tinggi_badan = 155\n",
    "berat_badan = 70\n",
    "X_new = np.array([tinggi_badan,berat_badan]).reshape(1,-1)\n",
    "X_new"
   ]
  },
  {
   "cell_type": "markdown",
   "id": "0f3d72ef",
   "metadata": {},
   "source": [
    "setelah di train, akan melakukan prediksi, dengan data baru yang nantinya akan melihat apakah perempuan atau pria."
   ]
  },
  {
   "cell_type": "code",
   "execution_count": 17,
   "id": "5f08e5ed",
   "metadata": {},
   "outputs": [
    {
     "data": {
      "text/plain": [
       "array([1])"
      ]
     },
     "execution_count": 17,
     "metadata": {},
     "output_type": "execute_result"
    }
   ],
   "source": [
    "y_new = model.predict(X_new)\n",
    "y_new"
   ]
  },
  {
   "cell_type": "markdown",
   "id": "727f36a8",
   "metadata": {},
   "source": [
    "melakukan prediksi dari data di atas"
   ]
  },
  {
   "cell_type": "code",
   "execution_count": 48,
   "id": "18fa227b",
   "metadata": {},
   "outputs": [
    {
     "data": {
      "text/plain": [
       "array(['wanita'], dtype='<U6')"
      ]
     },
     "execution_count": 48,
     "metadata": {},
     "output_type": "execute_result"
    }
   ],
   "source": [
    "lb.inverse_transform(y_new)"
   ]
  },
  {
   "cell_type": "markdown",
   "id": "324340fe",
   "metadata": {},
   "source": [
    "`lb.inverse_transform` digunakan untuk melakukan transformasi ulang dari bentuk semula. \n",
    "\n",
    "catatan(`lb = LabelBinarizer()`)"
   ]
  },
  {
   "cell_type": "markdown",
   "id": "99882885",
   "metadata": {},
   "source": [
    "### Visualisasi Nearest Neighbours"
   ]
  },
  {
   "cell_type": "code",
   "execution_count": 49,
   "id": "89151229",
   "metadata": {},
   "outputs": [
    {
     "data": {
      "image/png": "[encoded data removed]",
      "text/plain": [
       "<Figure size 432x288 with 1 Axes>"
      ]
     },
     "metadata": {
      "needs_background": "light"
     },
     "output_type": "display_data"
    }
   ],
   "source": [
    "fig, ax = plt.subplots()\n",
    "for jk, d in sensus_df.groupby('jk'):\n",
    "    ax.scatter(d['tinggi'], d['berat'], label = jk)\n",
    "\n",
    "plt.scatter(tinggi_badan,\n",
    "           berat_badan,\n",
    "           marker = 's',\n",
    "           color ='red',\n",
    "           label = 'misterius')\n",
    "\n",
    "plt.legend (loc='upper left')\n",
    "plt.title('sebaran data tinggi bada, berat badan, dan jenis kelamin')\n",
    "plt.xlabel('tinggi badan (cm)')\n",
    "plt.ylabel('berat badan (kg)')\n",
    "plt.grid(True)\n",
    "plt.show()"
   ]
  },
  {
   "cell_type": "markdown",
   "id": "ed94abc6",
   "metadata": {},
   "source": [
    "melakukan marker baru untuk variable `X_new`"
   ]
  },
  {
   "cell_type": "markdown",
   "id": "375272f4",
   "metadata": {},
   "source": [
    "### Kalkulasi DIstance (Euclidean Distance)"
   ]
  },
  {
   "cell_type": "markdown",
   "id": "5e3feba0",
   "metadata": {},
   "source": [
    "digunakan untuk mengukur jarak dekekatan dari satu data poin dengan data poin lainnya."
   ]
  },
  {
   "cell_type": "markdown",
   "id": "7b6248ad",
   "metadata": {},
   "source": [
    "#### $distance = \\sqrt{(t_1 - t_2)^2 + (b_1 +b_2)^2}$"
   ]
  },
  {
   "cell_type": "markdown",
   "id": "1e089bd2",
   "metadata": {},
   "source": [
    "- $t1$ : data tinggi badan poin kesatu\n",
    "- $t2$ : data tinggi badan poin kedua\n",
    "- $b1$ : data berat badan poin kesatu\n",
    "- $b2$ : data berat badan poin kedua"
   ]
  },
  {
   "cell_type": "code",
   "execution_count": 24,
   "id": "c38b1970",
   "metadata": {},
   "outputs": [
    {
     "data": {
      "text/plain": [
       "array([155,  70])"
      ]
     },
     "execution_count": 24,
     "metadata": {},
     "output_type": "execute_result"
    }
   ],
   "source": [
    "misterius = np.array([tinggi_badan, berat_badan])\n",
    "misterius"
   ]
  },
  {
   "cell_type": "code",
   "execution_count": 25,
   "id": "ce5c3429",
   "metadata": {},
   "outputs": [
    {
     "data": {
      "text/plain": [
       "array([[185,  64],\n",
       "       [170,  86],\n",
       "       [183,  84],\n",
       "       [191,  80],\n",
       "       [155,  49],\n",
       "       [163,  59],\n",
       "       [180,  67],\n",
       "       [158,  54],\n",
       "       [178,  67]], dtype=int64)"
      ]
     },
     "execution_count": 25,
     "metadata": {},
     "output_type": "execute_result"
    }
   ],
   "source": [
    "X_train"
   ]
  },
  {
   "cell_type": "code",
   "execution_count": 29,
   "id": "94aab70a",
   "metadata": {},
   "outputs": [
    {
     "data": {
      "text/plain": [
       "[30.59411708155671,\n",
       " 21.93171219946131,\n",
       " 31.304951684997057,\n",
       " 37.36308338453881,\n",
       " 21.0,\n",
       " 13.601470508735444,\n",
       " 25.179356624028344,\n",
       " 16.278820596099706,\n",
       " 23.194827009486403]"
      ]
     },
     "execution_count": 29,
     "metadata": {},
     "output_type": "execute_result"
    }
   ],
   "source": [
    "from scipy.spatial.distance import euclidean\n",
    "data_jarak = [euclidean(misterius,d) for d in X_train]\n",
    "data_jarak"
   ]
  },
  {
   "cell_type": "code",
   "execution_count": 30,
   "id": "4459352e",
   "metadata": {},
   "outputs": [
    {
     "data": {
      "text/html": [
       "<div>\n",
       "<style scoped>\n",
       "    .dataframe tbody tr th:only-of-type {\n",
       "        vertical-align: middle;\n",
       "    }\n",
       "\n",
       "    .dataframe tbody tr th {\n",
       "        vertical-align: top;\n",
       "    }\n",
       "\n",
       "    .dataframe thead th {\n",
       "        text-align: right;\n",
       "    }\n",
       "</style>\n",
       "<table border=\"1\" class=\"dataframe\">\n",
       "  <thead>\n",
       "    <tr style=\"text-align: right;\">\n",
       "      <th></th>\n",
       "      <th>tinggi</th>\n",
       "      <th>berat</th>\n",
       "      <th>jk</th>\n",
       "      <th>jarak</th>\n",
       "    </tr>\n",
       "  </thead>\n",
       "  <tbody>\n",
       "    <tr>\n",
       "      <th>5</th>\n",
       "      <td>163</td>\n",
       "      <td>59</td>\n",
       "      <td>wanita</td>\n",
       "      <td>13.601471</td>\n",
       "    </tr>\n",
       "    <tr>\n",
       "      <th>7</th>\n",
       "      <td>158</td>\n",
       "      <td>54</td>\n",
       "      <td>wanita</td>\n",
       "      <td>16.278821</td>\n",
       "    </tr>\n",
       "    <tr>\n",
       "      <th>4</th>\n",
       "      <td>155</td>\n",
       "      <td>49</td>\n",
       "      <td>wanita</td>\n",
       "      <td>21.000000</td>\n",
       "    </tr>\n",
       "    <tr>\n",
       "      <th>1</th>\n",
       "      <td>170</td>\n",
       "      <td>86</td>\n",
       "      <td>pria</td>\n",
       "      <td>21.931712</td>\n",
       "    </tr>\n",
       "    <tr>\n",
       "      <th>8</th>\n",
       "      <td>178</td>\n",
       "      <td>67</td>\n",
       "      <td>wanita</td>\n",
       "      <td>23.194827</td>\n",
       "    </tr>\n",
       "    <tr>\n",
       "      <th>6</th>\n",
       "      <td>180</td>\n",
       "      <td>67</td>\n",
       "      <td>wanita</td>\n",
       "      <td>25.179357</td>\n",
       "    </tr>\n",
       "    <tr>\n",
       "      <th>0</th>\n",
       "      <td>185</td>\n",
       "      <td>64</td>\n",
       "      <td>pria</td>\n",
       "      <td>30.594117</td>\n",
       "    </tr>\n",
       "    <tr>\n",
       "      <th>2</th>\n",
       "      <td>183</td>\n",
       "      <td>84</td>\n",
       "      <td>pria</td>\n",
       "      <td>31.304952</td>\n",
       "    </tr>\n",
       "    <tr>\n",
       "      <th>3</th>\n",
       "      <td>191</td>\n",
       "      <td>80</td>\n",
       "      <td>pria</td>\n",
       "      <td>37.363083</td>\n",
       "    </tr>\n",
       "  </tbody>\n",
       "</table>\n",
       "</div>"
      ],
      "text/plain": [
       "   tinggi  berat      jk      jarak\n",
       "5     163     59  wanita  13.601471\n",
       "7     158     54  wanita  16.278821\n",
       "4     155     49  wanita  21.000000\n",
       "1     170     86    pria  21.931712\n",
       "8     178     67  wanita  23.194827\n",
       "6     180     67  wanita  25.179357\n",
       "0     185     64    pria  30.594117\n",
       "2     183     84    pria  31.304952\n",
       "3     191     80    pria  37.363083"
      ]
     },
     "execution_count": 30,
     "metadata": {},
     "output_type": "execute_result"
    }
   ],
   "source": [
    "sensus_df['jarak'] = data_jarak\n",
    "sensus_df.sort_values(['jarak'])"
   ]
  },
  {
   "cell_type": "markdown",
   "id": "c3052b47",
   "metadata": {},
   "source": [
    "### Evaluasi KNN Classification Model"
   ]
  },
  {
   "cell_type": "markdown",
   "id": "460b4e51",
   "metadata": {},
   "source": [
    "#### Testing Set"
   ]
  },
  {
   "cell_type": "code",
   "execution_count": 31,
   "id": "57e380fe",
   "metadata": {},
   "outputs": [
    {
     "name": "stdout",
     "output_type": "stream",
     "text": [
      "X_test :\n",
      "[[168  65]\n",
      " [180  96]\n",
      " [160  52]\n",
      " [169  67]]\n",
      "\n",
      "y_test :\n",
      "[0 0 1 1]\n",
      "\n"
     ]
    }
   ],
   "source": [
    "X_test = np.array([[168,65],[180,96],[160,52],[169,67]])\n",
    "y_test = lb.transform(np.array(['pria','pria','wanita','wanita'])).flatten()\n",
    "\n",
    "print(f'X_test :\\n{X_test}\\n')\n",
    "print(f'y_test :\\n{y_test}\\n')"
   ]
  },
  {
   "cell_type": "markdown",
   "id": "072b3b4d",
   "metadata": {},
   "source": [
    "#### Prediksi terhadap testing set"
   ]
  },
  {
   "cell_type": "code",
   "execution_count": 32,
   "id": "dee71c0e",
   "metadata": {},
   "outputs": [
    {
     "data": {
      "text/plain": [
       "array([1, 0, 1, 1])"
      ]
     },
     "execution_count": 32,
     "metadata": {},
     "output_type": "execute_result"
    }
   ],
   "source": [
    "y_pred = model.predict(X_test)\n",
    "y_pred"
   ]
  },
  {
   "cell_type": "markdown",
   "id": "7f1408af",
   "metadata": {},
   "source": [
    "### Accuracy"
   ]
  },
  {
   "cell_type": "markdown",
   "id": "4adfe148",
   "metadata": {},
   "source": [
    "- Accuracy is the propotion of testing instances that were classified correctly\n",
    "### $accuracy = \\frac{tp + tn} {tp+tn+fp+fn}$\n",
    "\n",
    "\n",
    "- $tp$ : true positive (hasil prediksi yang benar secara positif)\n",
    "- $tn$ : true negative (hasil prediksi yang benar secara negatif)\n",
    "- $fp$ : false positive (hasil prediksi yang salah yang harusnya positif)\n",
    "- $fn$ : false negative (hasil prediksi yang salah yang harusnya negatif)"
   ]
  },
  {
   "cell_type": "code",
   "execution_count": 34,
   "id": "b1db9cc3",
   "metadata": {},
   "outputs": [
    {
     "name": "stdout",
     "output_type": "stream",
     "text": [
      "Accuracy :0.75\n"
     ]
    }
   ],
   "source": [
    "from sklearn.metrics import accuracy_score\n",
    "\n",
    "acc = accuracy_score(y_test, y_pred)\n",
    "print(f'Accuracy :{acc}')"
   ]
  },
  {
   "cell_type": "markdown",
   "id": "f4dc33ea",
   "metadata": {},
   "source": [
    "### Precission"
   ]
  },
  {
   "cell_type": "markdown",
   "id": "1ce1f613",
   "metadata": {},
   "source": [
    "precission is the proportion of testing instances that were predicted to be positive that are truly positive.\n",
    "### $precission = \\frac{tp}{tp +fp}$"
   ]
  },
  {
   "cell_type": "code",
   "execution_count": 36,
   "id": "fa55fbec",
   "metadata": {},
   "outputs": [
    {
     "name": "stdout",
     "output_type": "stream",
     "text": [
      "Precission:0.6666666666666666\n"
     ]
    }
   ],
   "source": [
    "from sklearn.metrics import precision_score\n",
    "\n",
    "prec = precision_score(y_test , y_pred)\n",
    "print(f'Precission:{prec}')"
   ]
  },
  {
   "cell_type": "markdown",
   "id": "685f04d5",
   "metadata": {},
   "source": [
    "### Recall"
   ]
  },
  {
   "cell_type": "markdown",
   "id": "1ce851ef",
   "metadata": {},
   "source": [
    "recall is the proportion of truly positive test instances that were predicted to be positive.\n",
    "### $recall = \\frac{tp}{tp+fn}$"
   ]
  },
  {
   "cell_type": "code",
   "execution_count": 39,
   "id": "da8786c2",
   "metadata": {},
   "outputs": [
    {
     "name": "stdout",
     "output_type": "stream",
     "text": [
      "Recall : 1.0\n"
     ]
    }
   ],
   "source": [
    "from sklearn.metrics import recall_score\n",
    "\n",
    "rec = recall_score (y_test, y_pred)\n",
    "print(f'Recall : {rec}')"
   ]
  },
  {
   "cell_type": "markdown",
   "id": "866479d8",
   "metadata": {},
   "source": [
    "### F1 Score"
   ]
  },
  {
   "cell_type": "markdown",
   "id": "f789f903",
   "metadata": {},
   "source": [
    "The F1 Score is the harmonic mean of precision and recall.\n",
    "\n",
    "### $ F1 = 2 * \\frac{precission*recall}{precission+recall}$"
   ]
  },
  {
   "cell_type": "code",
   "execution_count": 40,
   "id": "12402589",
   "metadata": {},
   "outputs": [
    {
     "name": "stdout",
     "output_type": "stream",
     "text": [
      "F1-score:0.8\n"
     ]
    }
   ],
   "source": [
    "from sklearn.metrics import f1_score\n",
    "\n",
    "f1 = f1_score(y_test, y_pred)\n",
    "print(f'F1-score:{f1}')"
   ]
  },
  {
   "cell_type": "markdown",
   "id": "4aa3bc6e",
   "metadata": {},
   "source": [
    "### Classification Report"
   ]
  },
  {
   "cell_type": "code",
   "execution_count": 41,
   "id": "1a97ddb9",
   "metadata": {},
   "outputs": [
    {
     "name": "stdout",
     "output_type": "stream",
     "text": [
      "Classification Report:\n",
      "              precision    recall  f1-score   support\n",
      "\n",
      "           0       1.00      0.50      0.67         2\n",
      "           1       0.67      1.00      0.80         2\n",
      "\n",
      "    accuracy                           0.75         4\n",
      "   macro avg       0.83      0.75      0.73         4\n",
      "weighted avg       0.83      0.75      0.73         4\n",
      "\n"
     ]
    }
   ],
   "source": [
    "from sklearn.metrics import classification_report\n",
    "\n",
    "cls_report = classification_report(y_test, y_pred)\n",
    "print(f'Classification Report:\\n{cls_report}')"
   ]
  },
  {
   "cell_type": "markdown",
   "id": "1ce40631",
   "metadata": {},
   "source": [
    "### Matthews Correlation Coefficient (MCC)"
   ]
  },
  {
   "cell_type": "markdown",
   "id": "4678100d",
   "metadata": {},
   "source": [
    "- MCC is an alternative to the F1 Score for meansuring the performance of binary classifiers.\n",
    "- A perfect classifier's MMC is 1 (nilai tertinggi 1)\n",
    "- A trivial classifier that predicts randomly will score 0, and a prefectly wrong classifier will score -1\n",
    "\n",
    "### $MCC = \\frac{tpXtn+fpXfn}{\\sqrt{(tp+fp)X(tp+fn)X(tn+fp)X(tn+fn)}}$\n",
    "\n",
    "- $tp$ : true positive (hasil prediksi yang benar secara positif)\n",
    "- $tn$ : true negative (hasil prediksi yang benar secara negatif)\n",
    "- $fp$ : false positive (hasil prediksi yang salah yang harusnya positif)\n",
    "- $fn$ : false negative (hasil prediksi yang salah yang harusnya negatif)"
   ]
  },
  {
   "cell_type": "code",
   "execution_count": 46,
   "id": "56771b38",
   "metadata": {},
   "outputs": [
    {
     "name": "stdout",
     "output_type": "stream",
     "text": [
      "MCC:0.5773502691896258\n"
     ]
    }
   ],
   "source": [
    "from sklearn.metrics import matthews_corrcoef\n",
    "\n",
    "mcc = matthews_corrcoef(y_test, y_pred)\n",
    "print(f'MCC:{mcc}')"
   ]
  }
 ],
 "metadata": {
  "kernelspec": {
   "display_name": "Python 3 (ipykernel)",
   "language": "python",
   "name": "python3"
  },
  "language_info": {
   "codemirror_mode": {
    "name": "ipython",
    "version": 3
   },
   "file_extension": ".py",
   "mimetype": "text/x-python",
   "name": "python",
   "nbconvert_exporter": "python",
   "pygments_lexer": "ipython3",
   "version": "3.9.7"
  }
 },
 "nbformat": 4,
 "nbformat_minor": 5
}
