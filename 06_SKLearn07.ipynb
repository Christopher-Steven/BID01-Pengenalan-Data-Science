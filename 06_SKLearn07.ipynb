{
 "cells": [
  {
   "cell_type": "markdown",
   "id": "9750d81e",
   "metadata": {},
   "source": [
    "# Pertemuan 06 Data Science 07\n",
    "## https://youtu.be/W8adIcfv16M\n",
    "## Regression Dengan KNN (K Nearest Neighbours)"
   ]
  },
  {
   "cell_type": "markdown",
   "id": "dc8c30f5",
   "metadata": {},
   "source": [
    "- KNN adalah model machine learning yang dapat digunakan untuk melakukan prediksi bersadarkan kedekatan karateristik dengan sejulah tetangga terdekat.\n",
    "- predisi yang diakukan dapat diterapkan baik pada classification maupun regirssion task."
   ]
  },
  {
   "cell_type": "markdown",
   "id": "19428991",
   "metadata": {},
   "source": [
    "### Sample Dataset"
   ]
  },
  {
   "cell_type": "code",
   "execution_count": 1,
   "id": "4af06d2c",
   "metadata": {},
   "outputs": [
    {
     "data": {
      "text/html": [
       "<div>\n",
       "<style scoped>\n",
       "    .dataframe tbody tr th:only-of-type {\n",
       "        vertical-align: middle;\n",
       "    }\n",
       "\n",
       "    .dataframe tbody tr th {\n",
       "        vertical-align: top;\n",
       "    }\n",
       "\n",
       "    .dataframe thead th {\n",
       "        text-align: right;\n",
       "    }\n",
       "</style>\n",
       "<table border=\"1\" class=\"dataframe\">\n",
       "  <thead>\n",
       "    <tr style=\"text-align: right;\">\n",
       "      <th></th>\n",
       "      <th>tinggi</th>\n",
       "      <th>jk</th>\n",
       "      <th>berat</th>\n",
       "    </tr>\n",
       "  </thead>\n",
       "  <tbody>\n",
       "    <tr>\n",
       "      <th>0</th>\n",
       "      <td>158</td>\n",
       "      <td>pria</td>\n",
       "      <td>64</td>\n",
       "    </tr>\n",
       "    <tr>\n",
       "      <th>1</th>\n",
       "      <td>170</td>\n",
       "      <td>pria</td>\n",
       "      <td>86</td>\n",
       "    </tr>\n",
       "    <tr>\n",
       "      <th>2</th>\n",
       "      <td>183</td>\n",
       "      <td>pria</td>\n",
       "      <td>84</td>\n",
       "    </tr>\n",
       "    <tr>\n",
       "      <th>3</th>\n",
       "      <td>191</td>\n",
       "      <td>pria</td>\n",
       "      <td>80</td>\n",
       "    </tr>\n",
       "    <tr>\n",
       "      <th>4</th>\n",
       "      <td>155</td>\n",
       "      <td>wanita</td>\n",
       "      <td>49</td>\n",
       "    </tr>\n",
       "    <tr>\n",
       "      <th>5</th>\n",
       "      <td>163</td>\n",
       "      <td>wanita</td>\n",
       "      <td>59</td>\n",
       "    </tr>\n",
       "    <tr>\n",
       "      <th>6</th>\n",
       "      <td>180</td>\n",
       "      <td>wanita</td>\n",
       "      <td>67</td>\n",
       "    </tr>\n",
       "    <tr>\n",
       "      <th>7</th>\n",
       "      <td>158</td>\n",
       "      <td>wanita</td>\n",
       "      <td>54</td>\n",
       "    </tr>\n",
       "    <tr>\n",
       "      <th>8</th>\n",
       "      <td>170</td>\n",
       "      <td>wanita</td>\n",
       "      <td>67</td>\n",
       "    </tr>\n",
       "  </tbody>\n",
       "</table>\n",
       "</div>"
      ],
      "text/plain": [
       "   tinggi      jk  berat\n",
       "0     158    pria     64\n",
       "1     170    pria     86\n",
       "2     183    pria     84\n",
       "3     191    pria     80\n",
       "4     155  wanita     49\n",
       "5     163  wanita     59\n",
       "6     180  wanita     67\n",
       "7     158  wanita     54\n",
       "8     170  wanita     67"
      ]
     },
     "execution_count": 1,
     "metadata": {},
     "output_type": "execute_result"
    }
   ],
   "source": [
    "import pandas as pd\n",
    "sensus = {'tinggi' : [158,170,183,191,155,163,180,158,170],\n",
    "         'jk':['pria','pria','pria','pria','wanita','wanita','wanita','wanita','wanita'],\n",
    "         'berat': [64,86,84,80,49,59,67,54,67]}\n",
    "sensus_df = pd.DataFrame(sensus)\n",
    "sensus_df"
   ]
  },
  {
   "cell_type": "markdown",
   "id": "ccd66c30",
   "metadata": {},
   "source": [
    "## Regression (estimasi nilai) dengan KNN"
   ]
  },
  {
   "cell_type": "markdown",
   "id": "6f81274a",
   "metadata": {},
   "source": [
    "### Features and Target"
   ]
  },
  {
   "cell_type": "code",
   "execution_count": 2,
   "id": "9a50f229",
   "metadata": {},
   "outputs": [
    {
     "name": "stdout",
     "output_type": "stream",
     "text": [
      "X_train:\n",
      "[[158 'pria']\n",
      " [170 'pria']\n",
      " [183 'pria']\n",
      " [191 'pria']\n",
      " [155 'wanita']\n",
      " [163 'wanita']\n",
      " [180 'wanita']\n",
      " [158 'wanita']\n",
      " [170 'wanita']]\n",
      "\n",
      "y_train: [64 86 84 80 49 59 67 54 67]\n"
     ]
    }
   ],
   "source": [
    "import numpy as np\n",
    "X_train = np.array(sensus_df[['tinggi','jk']])\n",
    "y_train = np.array(sensus_df['berat'])\n",
    "\n",
    "print(f'X_train:\\n{X_train}\\n')\n",
    "print(f'y_train: {y_train}')\n"
   ]
  },
  {
   "cell_type": "markdown",
   "id": "9e33ac47",
   "metadata": {},
   "source": [
    "- sebelum membuat training model akan melakukan pengelompokan nilai features dan target.\n",
    "- kasus kali ini data tinggi dan jenis kelamin akan menjadi features. tinggi dan jenis kelamin akan di bunddle.\n",
    "- data berat akan menjadi targetnya, \n",
    "- disini akan melakukan predisi dari berat badan berdasarkan tinggi badan dan jenis kelamin. karena yang di predisi adalah nilai continues bukan nilai kategori maka kasus ini termasuk pada reggrision task, KKN yang sebelumnya akan mengambil dari tetangga yang terdekat. lalu niali features lebih baik menggunakan nilai numerik"
   ]
  },
  {
   "cell_type": "markdown",
   "id": "da9047e4",
   "metadata": {},
   "source": [
    "### Preprocess Dataset : Konversi Label menjadi Numerik Biner"
   ]
  },
  {
   "cell_type": "code",
   "execution_count": 3,
   "id": "10f33054",
   "metadata": {},
   "outputs": [
    {
     "name": "stdout",
     "output_type": "stream",
     "text": [
      "X_train:\n",
      "[[158 'pria']\n",
      " [170 'pria']\n",
      " [183 'pria']\n",
      " [191 'pria']\n",
      " [155 'wanita']\n",
      " [163 'wanita']\n",
      " [180 'wanita']\n",
      " [158 'wanita']\n",
      " [170 'wanita']]\n",
      "\n",
      "X_train_transposed:\n",
      "[[158 170 183 191 155 163 180 158 170]\n",
      " ['pria' 'pria' 'pria' 'pria' 'wanita' 'wanita' 'wanita' 'wanita'\n",
      "  'wanita']]\n"
     ]
    }
   ],
   "source": [
    "X_train_transposed = np.transpose(X_train)\n",
    "print(f'X_train:\\n{X_train}\\n')\n",
    "print(f'X_train_transposed:\\n{X_train_transposed}')"
   ]
  },
  {
   "cell_type": "markdown",
   "id": "7952ac32",
   "metadata": {},
   "source": [
    "- `np.transpose` digunakan untuk mengubah posisi baris menjadi kolom dan posisi kolom menjadi baris. `np.transpose` akan membuat dua bentuk baris.\n",
    "- tinggi badan menjadi feature pertama dan jenis kelamin menjadi feature kedua."
   ]
  },
  {
   "cell_type": "code",
   "execution_count": 4,
   "id": "ddea3661",
   "metadata": {},
   "outputs": [
    {
     "name": "stdout",
     "output_type": "stream",
     "text": [
      "jk:['pria' 'pria' 'pria' 'pria' 'wanita' 'wanita' 'wanita' 'wanita' 'wanita']\n",
      "jk_binarized:\n",
      "[[0]\n",
      " [0]\n",
      " [0]\n",
      " [0]\n",
      " [1]\n",
      " [1]\n",
      " [1]\n",
      " [1]\n",
      " [1]]\n"
     ]
    }
   ],
   "source": [
    "from sklearn.preprocessing import LabelBinarizer\n",
    "lb = LabelBinarizer()\n",
    "jk_binarized = lb.fit_transform(X_train_transposed[1])\n",
    "\n",
    "print(f'jk:{X_train_transposed[1]}')\n",
    "print(f'jk_binarized:\\n{jk_binarized}')"
   ]
  },
  {
   "cell_type": "markdown",
   "id": "1d6a0bae",
   "metadata": {},
   "source": [
    "- yang di transposed yaitu `X_train_transposed` yang sudah di bagi menjadi dua baris, dan memberikan spesifikasi baris mana yang mau di transform. sebelum di transformasi data yang dilihat hanya menjadi satu dimensi. setelah di tranformasi menjadi dua dimensi."
   ]
  },
  {
   "cell_type": "code",
   "execution_count": 5,
   "id": "2f2dcd54",
   "metadata": {},
   "outputs": [
    {
     "data": {
      "text/plain": [
       "array([0, 0, 0, 0, 1, 1, 1, 1, 1])"
      ]
     },
     "execution_count": 5,
     "metadata": {},
     "output_type": "execute_result"
    }
   ],
   "source": [
    "jk_binarized = jk_binarized.flatten()\n",
    "jk_binarized "
   ]
  },
  {
   "cell_type": "markdown",
   "id": "02d9cc01",
   "metadata": {},
   "source": [
    "- `flatten` digunakan untuk menggabungkan array multi dimensi menjadi array satu dimensi."
   ]
  },
  {
   "cell_type": "code",
   "execution_count": 6,
   "id": "cf0c1c25",
   "metadata": {},
   "outputs": [
    {
     "name": "stdout",
     "output_type": "stream",
     "text": [
      "X_train_transposed:\n",
      "[[158 170 183 191 155 163 180 158 170]\n",
      " [0 0 0 0 1 1 1 1 1]]\n",
      "\n",
      "X_train:\n",
      "[[158 0]\n",
      " [170 0]\n",
      " [183 0]\n",
      " [191 0]\n",
      " [155 1]\n",
      " [163 1]\n",
      " [180 1]\n",
      " [158 1]\n",
      " [170 1]]\n"
     ]
    }
   ],
   "source": [
    "X_train_transposed[1] = jk_binarized \n",
    "X_train = X_train_transposed.transpose()\n",
    "\n",
    "print(f'X_train_transposed:\\n{X_train_transposed}\\n')\n",
    "print(f'X_train:\\n{X_train}')"
   ]
  },
  {
   "cell_type": "markdown",
   "id": "c0e51f00",
   "metadata": {},
   "source": [
    "- nilai yang sudah ditransformasikan akan tampung lagi ke `X_trans_transposed`. \n",
    "- `X_train_transposed` akan `ditranspose` lagi supaya dikembalikan kolom menjadi baris dan yang baris menjadi kolom\n",
    "- pada intinya ingin mengubah nilai jenis kelamin menjadi nilai binary."
   ]
  },
  {
   "cell_type": "code",
   "execution_count": 7,
   "id": "b302d76e",
   "metadata": {},
   "outputs": [
    {
     "name": "stdout",
     "output_type": "stream",
     "text": [
      "X_train_transposed :\n",
      "[[158 170 183 191 155 163 180 158 170]\n",
      " [0 0 0 0 1 1 1 1 1]]\n",
      "\n",
      "X_train:\n",
      "[[158 0]\n",
      " [170 0]\n",
      " [183 0]\n",
      " [191 0]\n",
      " [155 1]\n",
      " [163 1]\n",
      " [180 1]\n",
      " [158 1]\n",
      " [170 1]]\n"
     ]
    }
   ],
   "source": [
    "X_train_transposed[1] = jk_binarized\n",
    "X_train = X_train_transposed.transpose()\n",
    "\n",
    "print(f'X_train_transposed :\\n{X_train_transposed}\\n')\n",
    "print(f'X_train:\\n{X_train}')"
   ]
  },
  {
   "cell_type": "markdown",
   "id": "15e74d97",
   "metadata": {},
   "source": [
    "### Training KNN Regression Model"
   ]
  },
  {
   "cell_type": "code",
   "execution_count": 8,
   "id": "37798b63",
   "metadata": {},
   "outputs": [
    {
     "data": {
      "text/plain": [
       "KNeighborsRegressor(n_neighbors=3)"
      ]
     },
     "execution_count": 8,
     "metadata": {},
     "output_type": "execute_result"
    }
   ],
   "source": [
    "from sklearn.neighbors import KNeighborsRegressor\n",
    "\n",
    "K = 3\n",
    "model = KNeighborsRegressor(n_neighbors = K)\n",
    "model.fit(X_train, y_train)"
   ]
  },
  {
   "cell_type": "markdown",
   "id": "a6951d47",
   "metadata": {},
   "source": [
    "- model meachine learning yang digunakan yaitu KNN, yang berbeda pada `import`nya yaitu `KNeighborsRegressor`,\n",
    "- K adalah jumlah tetangga yang akan diprediksi"
   ]
  },
  {
   "cell_type": "markdown",
   "id": "20feed3c",
   "metadata": {},
   "source": [
    "### Prediksi Berat Badan"
   ]
  },
  {
   "cell_type": "code",
   "execution_count": 9,
   "id": "5f958bb2",
   "metadata": {},
   "outputs": [
    {
     "data": {
      "text/plain": [
       "array([[155,   1]])"
      ]
     },
     "execution_count": 9,
     "metadata": {},
     "output_type": "execute_result"
    }
   ],
   "source": [
    "X_new = np.array([[155,1]])\n",
    "X_new"
   ]
  },
  {
   "cell_type": "markdown",
   "id": "cf263342",
   "metadata": {},
   "source": [
    "membuat data yang akan dipredisi, isi datanya yaitu tinggi badan dan jenis kelamin"
   ]
  },
  {
   "cell_type": "code",
   "execution_count": 10,
   "id": "a9963ed5",
   "metadata": {},
   "outputs": [
    {
     "data": {
      "text/plain": [
       "array([55.66666667])"
      ]
     },
     "execution_count": 10,
     "metadata": {},
     "output_type": "execute_result"
    }
   ],
   "source": [
    "y_pred = model.predict(X_new)\n",
    "y_pred"
   ]
  },
  {
   "cell_type": "markdown",
   "id": "1f504752",
   "metadata": {},
   "source": [
    "melakukan prediksi, untuk data `155,1` atau tinggi badan 155 dan perempuan dipredisi memiliki berat beadan 55kg."
   ]
  },
  {
   "cell_type": "markdown",
   "id": "f46fdcf9",
   "metadata": {},
   "source": [
    "### Evaluasi KNN Regression Model "
   ]
  },
  {
   "cell_type": "code",
   "execution_count": 11,
   "id": "dd7af106",
   "metadata": {},
   "outputs": [
    {
     "name": "stdout",
     "output_type": "stream",
     "text": [
      "X_test:\n",
      "[[168   0]\n",
      " [180   0]\n",
      " [160   1]\n",
      " [169   1]]\n",
      "\n",
      "y_test:[65 96 52 67]\n"
     ]
    }
   ],
   "source": [
    "X_test = np.array([[168,0],[180,0],[160,1],[169,1]])\n",
    "y_test = np.array([65,96,52,67])\n",
    "\n",
    "print(f'X_test:\\n{X_test}\\n')\n",
    "print(f'y_test:{y_test}')"
   ]
  },
  {
   "cell_type": "markdown",
   "id": "53804a7f",
   "metadata": {},
   "source": [
    "menyiapkan 4 data testing set. untuk setiap freature `X_test` dan target `y_test`"
   ]
  },
  {
   "cell_type": "code",
   "execution_count": 12,
   "id": "d549e2d6",
   "metadata": {},
   "outputs": [
    {
     "data": {
      "text/plain": [
       "array([70.66666667, 79.        , 59.        , 70.66666667])"
      ]
     },
     "execution_count": 12,
     "metadata": {},
     "output_type": "execute_result"
    }
   ],
   "source": [
    "y_pred = model.predict(X_test)\n",
    "y_pred"
   ]
  },
  {
   "cell_type": "markdown",
   "id": "ca095937",
   "metadata": {},
   "source": [
    "lalu melakukan prediksi. namun data (pada `y_test`) yang diharapkan tidak sesuai "
   ]
  },
  {
   "cell_type": "markdown",
   "id": "b227b191",
   "metadata": {},
   "source": [
    "### Coefficient of Determinantion atau $R^2$"
   ]
  },
  {
   "cell_type": "code",
   "execution_count": 13,
   "id": "6c51a8fd",
   "metadata": {},
   "outputs": [
    {
     "name": "stdout",
     "output_type": "stream",
     "text": [
      "R-Squared : 0.6290565226735438\n"
     ]
    }
   ],
   "source": [
    "from sklearn.metrics import r2_score\n",
    "r_squared = r2_score(y_test, y_pred)\n",
    "print(f'R-Squared : {r_squared}')"
   ]
  },
  {
   "cell_type": "markdown",
   "id": "269a2c16",
   "metadata": {},
   "source": [
    "- untuk melakukan coefficient of determination membutuhkan : `from sklearn.metrics import r2_score`\n",
    "- untuk membuat `r2_score` memerlukan dua parameter yaitu `y_test` (target), `y_pred` (hasil prediksi)\n",
    "- nilai R-square bila semakin mendekati 1 maka semakin baik bila mendekati 0 atau negatif maka hasilnya kurang baik."
   ]
  },
  {
   "cell_type": "markdown",
   "id": "b412ba00",
   "metadata": {},
   "source": [
    "## Mean Absolut Error (MAE) atau Mean Absolute Deviation (MAD)"
   ]
  },
  {
   "cell_type": "markdown",
   "id": "800e94f7",
   "metadata": {},
   "source": [
    "$M A E$ is the average of the absolute values of the errors of the predictions.\n",
    "\n",
    "## $M AE = \\frac1n\\sum_{i=1}^{n}|y_i - \\hat{y}_1| $\n",
    "\n",
    "- $y_i$ : nilai target\n",
    "- $\\hat{y}_1$ : nilai prediksi\n",
    "\n",
    "\n",
    "\n",
    "- menghitung selisih atau error untuk $y_i$ dan $\\hat{y}_1$\n",
    "- hasil perhitungan akan memiliki hasil negatif dan positif.\n",
    "- bila hasil prediksi lebih kecil dari yang seharusnya maka nilainya positif\n",
    "- bila hasil prediksi lebih besar dari yang seharusnya maka nilainya negatif\n",
    "- semua nilai negatif akan menjadi positif bila ada method absolut ($| |$)"
   ]
  },
  {
   "cell_type": "code",
   "execution_count": 14,
   "id": "922eb3c8",
   "metadata": {},
   "outputs": [
    {
     "name": "stdout",
     "output_type": "stream",
     "text": [
      "MAE:8.333333333333336\n"
     ]
    }
   ],
   "source": [
    "from sklearn.metrics import mean_absolute_error\n",
    "MAE = mean_absolute_error(y_test, y_pred)\n",
    "print(f'MAE:{MAE}')"
   ]
  },
  {
   "cell_type": "markdown",
   "id": "5b6b343e",
   "metadata": {},
   "source": [
    "bila nilai $M AE$ nya lebih kecil maka hasilnya akan lebih baik."
   ]
  },
  {
   "cell_type": "markdown",
   "id": "aaa45668",
   "metadata": {},
   "source": [
    "## Mean Squared Error (MSE) atau MEan Squared Deviation (MSD)"
   ]
  },
  {
   "cell_type": "markdown",
   "id": "bfbed85c",
   "metadata": {},
   "source": [
    "$M SE$ is the average of the squares of the erros of the predictions.\n",
    "\n",
    "$M SE$ adalah rata rata error kuadrad dari prediksi.\n",
    "\n",
    "\n",
    "\n",
    "## $M AE = \\frac1n\\sum_{i=1}^{n}(y_i - \\hat{y}_1)^2 $\n",
    "\n",
    "- $y_i$ : nilai target\n",
    "- $\\hat{y}_1$ : nilai prediksi\n",
    "- n : jumlah data poin\n",
    "\n",
    "\n",
    "- menghitung selisih atau error untuk $y_i$ dan $\\hat{y}_1$\n",
    "- hasil perhitungan akan memiliki hasil negatif dan positif.\n",
    "- bila hasil prediksi lebih kecil dari yang seharusnya maka nilainya positif\n",
    "- bila hasil prediksi lebih besar dari yang seharusnya maka nilainya negatif\n",
    "- untuk menghilangkan nilai negatif selisih nilainya akan di pangkat dua, dan akan di akumulasi lalu di bagi dengan n "
   ]
  },
  {
   "cell_type": "code",
   "execution_count": 15,
   "id": "6aa39158",
   "metadata": {},
   "outputs": [
    {
     "name": "stdout",
     "output_type": "stream",
     "text": [
      "MSE:95.8888888888889\n"
     ]
    }
   ],
   "source": [
    "from sklearn.metrics import mean_squared_error\n",
    "MSE = mean_squared_error(y_test, y_pred)\n",
    "print(f'MSE:{MSE}')"
   ]
  },
  {
   "cell_type": "markdown",
   "id": "7d59416d",
   "metadata": {},
   "source": [
    "bila nilai $M SE$nya lebih kecil maka modelnya makin baik. nilai $M SE$ akan lebih beasr dari pada $M AE$ "
   ]
  },
  {
   "cell_type": "markdown",
   "id": "47ae8b87",
   "metadata": {},
   "source": [
    "## Permasalahan Scaling pada Features"
   ]
  },
  {
   "cell_type": "code",
   "execution_count": 16,
   "id": "8a4d1eb8",
   "metadata": {},
   "outputs": [
    {
     "data": {
      "text/plain": [
       "[60.0, 40.01249804748511]"
      ]
     },
     "execution_count": 16,
     "metadata": {},
     "output_type": "execute_result"
    }
   ],
   "source": [
    "from scipy.spatial.distance import euclidean\n",
    "\n",
    "# tinggi dalam milimeter\n",
    "X_train = np.array([[1700,0],[1600,1]])\n",
    "X_new = np.array([[1640,0]])\n",
    "[euclidean(X_new[0],d) for d in X_train]"
   ]
  },
  {
   "cell_type": "markdown",
   "id": "74993750",
   "metadata": {},
   "source": [
    "terdapat dua nilai features, nilai pertama tinggi badan dalam bentuk milimeter dan jenis kelamin yang bernilai biner 0 untuk pria dan 1 untuk wanita.\n",
    "\n",
    "menghitung jarak dengan menggunakan `euclidean` distance, yang pertama yaitu jarak dari data poin index 0 dan yang kedua yaitu jarak dari data poin index ke 1."
   ]
  },
  {
   "cell_type": "code",
   "execution_count": 17,
   "id": "11d9eefb",
   "metadata": {},
   "outputs": [
    {
     "data": {
      "text/plain": [
       "[0.06000000000000005, 1.0007996802557442]"
      ]
     },
     "execution_count": 17,
     "metadata": {},
     "output_type": "execute_result"
    }
   ],
   "source": [
    "# tinggi dalam meter\n",
    "X_train = np.array([[1.7,0],[1.6,1]])\n",
    "X_new = np.array([[1.64,0]])\n",
    "\n",
    "[euclidean(X_new[0],d) for d in X_train]"
   ]
  },
  {
   "cell_type": "markdown",
   "id": "bebb971e",
   "metadata": {},
   "source": [
    "terdapat dua nilai features, nilai pertama tinggi badan dalam bentuk meter dan jenis kelamin yang bernilai biner 0 untuk pria dan 1 untuk wanita.\n",
    "\n",
    "menghitung jarak dengan menggunakan `euclidean` distance, yang pertama yaitu jarak dari data poin index 0 dan yang kedua yaitu jarak dari data poin index ke 1. bila di lihat terjadi ketidakonsistenan data padahal hanya berbada dalam bentuk pengukuran."
   ]
  },
  {
   "cell_type": "markdown",
   "id": "4fa31da9",
   "metadata": {},
   "source": [
    "### Menerapkan Standar Scaler (Standar Score atau Z-Score)"
   ]
  },
  {
   "cell_type": "markdown",
   "id": "4ed62e76",
   "metadata": {},
   "source": [
    "Standardize featrues by removing the mean and scaling to unit variance.\n",
    "\n",
    "## $z = \\frac{x - \\bar x}S $\n",
    "\n",
    "- $x$ : nilai feature\n",
    "- $\\bar x$ : rata rata nilai feature\n",
    "- $S$ : nilai standard deviasi"
   ]
  },
  {
   "cell_type": "code",
   "execution_count": 18,
   "id": "97b54897",
   "metadata": {},
   "outputs": [],
   "source": [
    "from sklearn.preprocessing import StandardScaler\n",
    "\n",
    "ss = StandardScaler()"
   ]
  },
  {
   "cell_type": "markdown",
   "id": "62254b68",
   "metadata": {},
   "source": [
    "perlu mengimport StandardScalernya."
   ]
  },
  {
   "cell_type": "code",
   "execution_count": 19,
   "id": "72f7ea80",
   "metadata": {},
   "outputs": [
    {
     "name": "stdout",
     "output_type": "stream",
     "text": [
      "X_train_scaled:\n",
      "[[ 1. -1.]\n",
      " [-1.  1.]]\n",
      "\n",
      "X_new_scaled :[[-0.2 -1. ]]\n",
      "\n",
      "jarak: [1.2, 2.1540659228538015]\n"
     ]
    }
   ],
   "source": [
    "# tinggi dalam milimeter\n",
    "X_train = np.array([[1700,0],[1600,1]])\n",
    "X_train_scaled = ss.fit_transform(X_train)\n",
    "print(f'X_train_scaled:\\n{X_train_scaled}\\n')\n",
    "\n",
    "X_new = np.array([[1640, 0]])\n",
    "X_new_scaled = ss.transform(X_new)\n",
    "print(f'X_new_scaled :{X_new_scaled}\\n')\n",
    "\n",
    "jarak = [euclidean(X_new_scaled[0],d) for d in X_train_scaled]\n",
    "print(f'jarak: {jarak}')"
   ]
  },
  {
   "cell_type": "markdown",
   "id": "ae1b0ad1",
   "metadata": {},
   "source": [
    "terdapat dua nilai features, nilai pertama tinggi badan dalam bentuk milimeter dan jenis kelamin yang bernilai biner 0 untuk pria dan 1 untuk wanita.\n",
    "\n",
    "setelah nilai Feature di bentuk selanjutnya menggunakan StandardScaler pada X_train. menggunakan `fit_transform`\n",
    "\n",
    "pada `X_new` tidak melakukan `fit_transform` karena sudah digunakan pada `X_train`, tapi menggunakan `tranform` supaya dapat digunakan pada `X_train` dan `X_new`\n",
    "\n",
    "lalu menghitung jarak dengan menggunakan `euclidean` distance."
   ]
  },
  {
   "cell_type": "code",
   "execution_count": 20,
   "id": "421842d6",
   "metadata": {},
   "outputs": [
    {
     "name": "stdout",
     "output_type": "stream",
     "text": [
      "X_train_scaled:\n",
      "[[ 1. -1.]\n",
      " [-1.  1.]]\n",
      "\n",
      "X_new_scaled:[[-0.2 -1. ]]\n",
      "\n",
      "jarak : [1.2000000000000026, 2.1540659228538006]\n"
     ]
    }
   ],
   "source": [
    "# tinggi dalam meter\n",
    "X_train = np.array([[1.7,0],[1.6,1]])\n",
    "X_train_scaled = ss.fit_transform(X_train)\n",
    "print(f'X_train_scaled:\\n{X_train_scaled}\\n')\n",
    "\n",
    "X_new = np.array([[1.64, 0]])\n",
    "X_new_scaled = ss.transform(X_new)\n",
    "print(f'X_new_scaled:{X_new_scaled}\\n')\n",
    "\n",
    "jarak = [euclidean(X_new_scaled[0],d) for d in X_train_scaled]\n",
    "print(f'jarak : {jarak}')"
   ]
  },
  {
   "cell_type": "markdown",
   "id": "5558ee03",
   "metadata": {},
   "source": [
    "terdapat dua nilai features, nilai pertama tinggi badan dalam bentuk meter dan jenis kelamin yang bernilai biner 0 untuk pria dan 1 untuk wanita.\n",
    "\n",
    "setelah nilai Feature di bentuk selanjutnya menggunakan StandardScaler pada X_train. menggunakan `fit_transform`\n",
    "\n",
    "pada `X_new` tidak melakukan `fit_transform` karena sudah digunakan pada `X_train`, tapi menggunakan `tranform` supaya dapat digunakan pada `X_train` dan `X_new`\n",
    "\n",
    "lalu menghitung jarak dengan menggunakan `euclidean` distance."
   ]
  },
  {
   "cell_type": "markdown",
   "id": "091da65d",
   "metadata": {},
   "source": [
    "## Menerapkan Features scaling pada KNN"
   ]
  },
  {
   "cell_type": "markdown",
   "id": "747917d4",
   "metadata": {},
   "source": [
    "### Dataset"
   ]
  },
  {
   "cell_type": "code",
   "execution_count": 21,
   "id": "62c023d5",
   "metadata": {},
   "outputs": [],
   "source": [
    "# training set\n",
    "X_train = np.array([[158,0],[170,0],[183,0],[191,0],[155,1],[163,1],[180,1],[158,1],[170,1]])\n",
    "\n",
    "y_train = np.array([64,86,84,80,49,59,67,54,67])\n",
    "\n",
    "# Test Set\n",
    "X_test = np.array([[168,0],[180,0],[160,1],[169,1]])\n",
    "y_test = np.array([65,96,52,67])"
   ]
  },
  {
   "cell_type": "markdown",
   "id": "d0d46035",
   "metadata": {},
   "source": [
    "### Features Scaling (Standard Scaler)"
   ]
  },
  {
   "cell_type": "code",
   "execution_count": 25,
   "id": "5922a45a",
   "metadata": {},
   "outputs": [
    {
     "name": "stdout",
     "output_type": "stream",
     "text": [
      "X_train_scaled:\n",
      "[[-0.9908706  -1.11803399]\n",
      " [ 0.01869567 -1.11803399]\n",
      " [ 1.11239246 -1.11803399]\n",
      " [ 1.78543664 -1.11803399]\n",
      " [-1.24326216  0.89442719]\n",
      " [-0.57021798  0.89442719]\n",
      " [ 0.86000089  0.89442719]\n",
      " [-0.9908706   0.89442719]\n",
      " [ 0.01869567  0.89442719]]\n",
      "\n",
      "X_test_scaled :\n",
      "[[-0.14956537 -1.11803399]\n",
      " [ 0.86000089 -1.11803399]\n",
      " [-0.82260955  0.89442719]\n",
      " [-0.06543485  0.89442719]]\n",
      "\n"
     ]
    }
   ],
   "source": [
    "X_train_scaled = ss.fit_transform(X_train)\n",
    "X_test_scaled = ss.transform(X_test)\n",
    "\n",
    "print (f'X_train_scaled:\\n{X_train_scaled}\\n')\n",
    "print (f'X_test_scaled :\\n{X_test_scaled}\\n')"
   ]
  },
  {
   "cell_type": "markdown",
   "id": "207a6637",
   "metadata": {},
   "source": [
    "awalnya melakukan scalling terlebih dahulu untuk X_train dan X_testnya."
   ]
  },
  {
   "cell_type": "markdown",
   "id": "e8b5f941",
   "metadata": {},
   "source": [
    "### Training & Evaluasi model."
   ]
  },
  {
   "cell_type": "code",
   "execution_count": 26,
   "id": "a8cf3803",
   "metadata": {},
   "outputs": [
    {
     "name": "stdout",
     "output_type": "stream",
     "text": [
      "MAE : 7.583333333333336\n",
      "MSE : 85.13888888888893\n"
     ]
    }
   ],
   "source": [
    "model.fit(X_train_scaled, y_train)\n",
    "y_pred = model.predict(X_test_scaled)\n",
    "\n",
    "MAE = mean_absolute_error(y_test, y_pred)\n",
    "MSE = mean_squared_error(y_test, y_pred)\n",
    "\n",
    "print(f'MAE : {MAE}')\n",
    "print(f'MSE : {MSE}')\n"
   ]
  },
  {
   "cell_type": "markdown",
   "id": "9232ef0a",
   "metadata": {},
   "source": [
    "bisa menghasilkan model yang lebih baik dengan menggunakan feature scalling."
   ]
  },
  {
   "cell_type": "code",
   "execution_count": null,
   "id": "53bb273d",
   "metadata": {},
   "outputs": [],
   "source": []
  }
 ],
 "metadata": {
  "kernelspec": {
   "display_name": "Python 3 (ipykernel)",
   "language": "python",
   "name": "python3"
  },
  "language_info": {
   "codemirror_mode": {
    "name": "ipython",
    "version": 3
   },
   "file_extension": ".py",
   "mimetype": "text/x-python",
   "name": "python",
   "nbconvert_exporter": "python",
   "pygments_lexer": "ipython3",
   "version": "3.9.7"
  }
 },
 "nbformat": 4,
 "nbformat_minor": 5
}
