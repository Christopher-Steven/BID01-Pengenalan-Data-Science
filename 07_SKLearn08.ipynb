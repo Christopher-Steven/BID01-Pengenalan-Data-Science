{
 "cells": [
  {
   "cell_type": "markdown",
   "id": "da02b8ba",
   "metadata": {},
   "source": [
    "# Pertemuan 7 Data Science 8\n",
    "## Sumber : https://youtu.be/nWJUJenAyB8\n",
    "## Multiple Linear Regression & Polynomial Regression"
   ]
  },
  {
   "cell_type": "markdown",
   "id": "2187d691",
   "metadata": {},
   "source": [
    "## Sample Dataset"
   ]
  },
  {
   "cell_type": "markdown",
   "id": "e624b269",
   "metadata": {},
   "source": [
    "### Training Dataset"
   ]
  },
  {
   "cell_type": "code",
   "execution_count": 3,
   "id": "87fa0b9d",
   "metadata": {},
   "outputs": [
    {
     "data": {
      "text/html": [
       "<div>\n",
       "<style scoped>\n",
       "    .dataframe tbody tr th:only-of-type {\n",
       "        vertical-align: middle;\n",
       "    }\n",
       "\n",
       "    .dataframe tbody tr th {\n",
       "        vertical-align: top;\n",
       "    }\n",
       "\n",
       "    .dataframe thead th {\n",
       "        text-align: right;\n",
       "    }\n",
       "</style>\n",
       "<table border=\"1\" class=\"dataframe\">\n",
       "  <thead>\n",
       "    <tr style=\"text-align: right;\">\n",
       "      <th></th>\n",
       "      <th>diameter</th>\n",
       "      <th>n_topping</th>\n",
       "      <th>harga</th>\n",
       "    </tr>\n",
       "  </thead>\n",
       "  <tbody>\n",
       "    <tr>\n",
       "      <th>0</th>\n",
       "      <td>6</td>\n",
       "      <td>2</td>\n",
       "      <td>7.0</td>\n",
       "    </tr>\n",
       "    <tr>\n",
       "      <th>1</th>\n",
       "      <td>8</td>\n",
       "      <td>1</td>\n",
       "      <td>9.0</td>\n",
       "    </tr>\n",
       "    <tr>\n",
       "      <th>2</th>\n",
       "      <td>10</td>\n",
       "      <td>0</td>\n",
       "      <td>13.0</td>\n",
       "    </tr>\n",
       "    <tr>\n",
       "      <th>3</th>\n",
       "      <td>14</td>\n",
       "      <td>2</td>\n",
       "      <td>17.5</td>\n",
       "    </tr>\n",
       "    <tr>\n",
       "      <th>4</th>\n",
       "      <td>18</td>\n",
       "      <td>0</td>\n",
       "      <td>18.0</td>\n",
       "    </tr>\n",
       "  </tbody>\n",
       "</table>\n",
       "</div>"
      ],
      "text/plain": [
       "   diameter  n_topping  harga\n",
       "0         6          2    7.0\n",
       "1         8          1    9.0\n",
       "2        10          0   13.0\n",
       "3        14          2   17.5\n",
       "4        18          0   18.0"
      ]
     },
     "execution_count": 3,
     "metadata": {},
     "output_type": "execute_result"
    }
   ],
   "source": [
    "import pandas as pd\n",
    "pizza = {'diameter':[6,8,10,14,18],\n",
    "        'n_topping' : [2,1,0,2,0],\n",
    "        'harga': [7,9,13,17.5,18]}\n",
    "\n",
    "train_pizza_df = pd.DataFrame(pizza)\n",
    "train_pizza_df"
   ]
  },
  {
   "cell_type": "markdown",
   "id": "bcf2e8cc",
   "metadata": {},
   "source": [
    "### Testing Dataset"
   ]
  },
  {
   "cell_type": "code",
   "execution_count": 5,
   "id": "05502b07",
   "metadata": {},
   "outputs": [
    {
     "data": {
      "text/html": [
       "<div>\n",
       "<style scoped>\n",
       "    .dataframe tbody tr th:only-of-type {\n",
       "        vertical-align: middle;\n",
       "    }\n",
       "\n",
       "    .dataframe tbody tr th {\n",
       "        vertical-align: top;\n",
       "    }\n",
       "\n",
       "    .dataframe thead th {\n",
       "        text-align: right;\n",
       "    }\n",
       "</style>\n",
       "<table border=\"1\" class=\"dataframe\">\n",
       "  <thead>\n",
       "    <tr style=\"text-align: right;\">\n",
       "      <th></th>\n",
       "      <th>diameter</th>\n",
       "      <th>n_topping</th>\n",
       "      <th>harga</th>\n",
       "    </tr>\n",
       "  </thead>\n",
       "  <tbody>\n",
       "    <tr>\n",
       "      <th>0</th>\n",
       "      <td>8</td>\n",
       "      <td>2</td>\n",
       "      <td>11.0</td>\n",
       "    </tr>\n",
       "    <tr>\n",
       "      <th>1</th>\n",
       "      <td>9</td>\n",
       "      <td>0</td>\n",
       "      <td>8.5</td>\n",
       "    </tr>\n",
       "    <tr>\n",
       "      <th>2</th>\n",
       "      <td>11</td>\n",
       "      <td>2</td>\n",
       "      <td>15.0</td>\n",
       "    </tr>\n",
       "    <tr>\n",
       "      <th>3</th>\n",
       "      <td>16</td>\n",
       "      <td>2</td>\n",
       "      <td>18.0</td>\n",
       "    </tr>\n",
       "    <tr>\n",
       "      <th>4</th>\n",
       "      <td>12</td>\n",
       "      <td>0</td>\n",
       "      <td>11.0</td>\n",
       "    </tr>\n",
       "  </tbody>\n",
       "</table>\n",
       "</div>"
      ],
      "text/plain": [
       "   diameter  n_topping  harga\n",
       "0         8          2   11.0\n",
       "1         9          0    8.5\n",
       "2        11          2   15.0\n",
       "3        16          2   18.0\n",
       "4        12          0   11.0"
      ]
     },
     "execution_count": 5,
     "metadata": {},
     "output_type": "execute_result"
    }
   ],
   "source": [
    "pizza = {'diameter':[8,9,11,16,12],\n",
    "        'n_topping':[2,0,2,2,0],\n",
    "         'harga':[11,8.5,15,18,11]}\n",
    "test_pizza_df = pd.DataFrame(pizza)\n",
    "test_pizza_df"
   ]
  },
  {
   "cell_type": "markdown",
   "id": "4cf6dee4",
   "metadata": {},
   "source": [
    "## Preprocessing Dataset"
   ]
  },
  {
   "cell_type": "code",
   "execution_count": 7,
   "id": "5b8a655b",
   "metadata": {},
   "outputs": [
    {
     "name": "stdout",
     "output_type": "stream",
     "text": [
      "X_train:\n",
      "[[ 6  2]\n",
      " [ 8  1]\n",
      " [10  0]\n",
      " [14  2]\n",
      " [18  0]]\n",
      "\n",
      "y_train: [ 7.   9.  13.  17.5 18. ]\n"
     ]
    }
   ],
   "source": [
    "import numpy as np\n",
    "X_train = np.array(train_pizza_df[['diameter','n_topping']])\n",
    "y_train = np.array(train_pizza_df['harga'])\n",
    "\n",
    "print(f'X_train:\\n{X_train}\\n')\n",
    "print(f'y_train: {y_train}')"
   ]
  },
  {
   "cell_type": "code",
   "execution_count": 9,
   "id": "8f5a2853",
   "metadata": {},
   "outputs": [
    {
     "name": "stdout",
     "output_type": "stream",
     "text": [
      "X_test:\n",
      "[[ 8  2]\n",
      " [ 9  0]\n",
      " [11  2]\n",
      " [16  2]\n",
      " [12  0]]\n",
      "\n",
      "y_test: [11.   8.5 15.  18.  11. ]\n"
     ]
    }
   ],
   "source": [
    "X_test = np.array(test_pizza_df[['diameter','n_topping']])\n",
    "y_test = np.array(test_pizza_df['harga'])\n",
    "\n",
    "print(f'X_test:\\n{X_test}\\n')\n",
    "print(f'y_test: {y_test}')"
   ]
  },
  {
   "cell_type": "markdown",
   "id": "13e2f907",
   "metadata": {},
   "source": [
    "memisahkan kolom feature dan kolom target, untuk train dan test \n",
    "- kolom feature yaitu diamter dan n_topping dibentuk dalam duadimensi.\n",
    "- kolom target yaitu harga."
   ]
  },
  {
   "cell_type": "markdown",
   "id": "35480504",
   "metadata": {},
   "source": [
    "## Multiple Linear Regression"
   ]
  },
  {
   "cell_type": "markdown",
   "id": "540cc2a9",
   "metadata": {},
   "source": [
    "Multiple Linear Regression merupakan generalisasi dari simple linear regression yang memungkinkan untuk menggunakan beberapa explanatory variables. perbedaan dari simple linear regression dengan multiple linear regression terletak dari jumlah features atau explanatory varible, pada simple hanya menggunakan satu feature, dan multiple menggunakan lebih dari satu feature.\n",
    "\n",
    "## $y = \\alpha + \\beta_1 x_1 + \\beta_2 x_2 + \\cdots + \\beta_n x_n $\n",
    "\n",
    "dalam bentuk ini bentuk $x$ ini (feature) bisa lebih satu, untuk nilai $x$ nya akan di kalikan dengan $\\beta$ ."
   ]
  },
  {
   "cell_type": "code",
   "execution_count": 10,
   "id": "11aeaaa6",
   "metadata": {},
   "outputs": [
    {
     "name": "stdout",
     "output_type": "stream",
     "text": [
      "r_squared: 0.7701677731318468\n"
     ]
    }
   ],
   "source": [
    "from sklearn.linear_model import LinearRegression\n",
    "from sklearn.metrics import r2_score\n",
    "\n",
    "model = LinearRegression()\n",
    "model.fit(X_train, y_train)\n",
    "y_pred = model.predict(X_test)\n",
    "\n",
    "print(f'r_squared: {r2_score(y_test, y_pred)}')"
   ]
  },
  {
   "cell_type": "markdown",
   "id": "bd1bd3e6",
   "metadata": {},
   "source": [
    "implementasi multiple linear regression\n",
    "- mengimport Linear Regression\n",
    "- mengimport r2_score\n",
    "- membuat object model.\n",
    "- melakukan training model menggunakan `fit` dan menyertakan `X_train` dan `y_train`\n",
    "- melakukan prediksi dengan `model.predict` dari `X_test`\n",
    "\n",
    "dalam bentuk kodingannya tidak ada yang berbeda dari simple linear regression hanya menambahkan nilai featurenya saja"
   ]
  },
  {
   "cell_type": "markdown",
   "id": "369c79eb",
   "metadata": {},
   "source": [
    "## Poynomina Regression"
   ]
  },
  {
   "cell_type": "markdown",
   "id": "dfa0728f",
   "metadata": {},
   "source": [
    "Polynomial regression memodelkan hubungan antara independent variable $x$ dan dependent variable $y$ sebagai derajat polynomial dalam $x$. \n",
    "\n",
    "independent variable adalah nilai feature\n",
    "\n",
    "dependent varible adalah nilai target."
   ]
  },
  {
   "cell_type": "markdown",
   "id": "13323d43",
   "metadata": {},
   "source": [
    "### Preprocessing Dataset"
   ]
  },
  {
   "cell_type": "code",
   "execution_count": 12,
   "id": "d5ce5028",
   "metadata": {},
   "outputs": [
    {
     "name": "stdout",
     "output_type": "stream",
     "text": [
      "x_train:\n",
      "[[ 6]\n",
      " [ 8]\n",
      " [10]\n",
      " [14]\n",
      " [18]]\n",
      "\n",
      "y_train: [ 7.   9.  13.  17.5 18. ]\n"
     ]
    }
   ],
   "source": [
    "X_train = np.array(train_pizza_df['diameter']).reshape(-1,1)\n",
    "y_train = np.array(train_pizza_df['harga'])\n",
    "\n",
    "print(f'x_train:\\n{X_train}\\n')\n",
    "print(f'y_train: {y_train}')"
   ]
  },
  {
   "cell_type": "markdown",
   "id": "678ad3e1",
   "metadata": {},
   "source": [
    "`reshape(-1,1)` digunakan untuk melakukan pemangkasan supaya dapat menampilkan satu baris feature saja dari multi dimensi. nampa menghilangkan multi dimensi."
   ]
  },
  {
   "cell_type": "markdown",
   "id": "468b29a4",
   "metadata": {},
   "source": [
    "## Polynomial Regression : Quadratic\n",
    "\n",
    "### $y = \\alpha + \\beta_1 x + \\beta_2 x^2$\n",
    "\n",
    "nilai x yaitu featurenya hanya satu, akan di representasikan sebagai polynomial."
   ]
  },
  {
   "cell_type": "markdown",
   "id": "676ba7fc",
   "metadata": {},
   "source": [
    "### Polynomial Features"
   ]
  },
  {
   "cell_type": "code",
   "execution_count": 17,
   "id": "688b270d",
   "metadata": {},
   "outputs": [
    {
     "name": "stdout",
     "output_type": "stream",
     "text": [
      "X_train_quadratic:\n",
      "[[  1.   6.  36.]\n",
      " [  1.   8.  64.]\n",
      " [  1.  10. 100.]\n",
      " [  1.  14. 196.]\n",
      " [  1.  18. 324.]]\n",
      "\n"
     ]
    }
   ],
   "source": [
    "from sklearn.preprocessing import PolynomialFeatures\n",
    "\n",
    "quadratic_feature = PolynomialFeatures(degree=2)\n",
    "X_train_quadratic = quadratic_feature.fit_transform(X_train)\n",
    "\n",
    "print(f'X_train_quadratic:\\n{X_train_quadratic}\\n')"
   ]
  },
  {
   "cell_type": "markdown",
   "id": "496af2c3",
   "metadata": {},
   "source": [
    "melakukan transformasi polynomial feature\n",
    "- melakukan import `PolynomialFeature`\n",
    "- membentuk objek `Polymonialfeature` dan mementukan kuadratnya `(degree = val)`\n",
    "- lalu melakukan transformasi dari X_train.\n",
    "\n",
    "nilai 1 didapatkan dari nilai index kesatu di pangkatkan 0, lalu  dipangkatkan 1, lalu dipangkatkan 2."
   ]
  },
  {
   "cell_type": "markdown",
   "id": "f0ee7ac0",
   "metadata": {},
   "source": [
    "### Training Model"
   ]
  },
  {
   "cell_type": "code",
   "execution_count": 18,
   "id": "cf2f87aa",
   "metadata": {},
   "outputs": [
    {
     "data": {
      "text/plain": [
       "LinearRegression()"
      ]
     },
     "execution_count": 18,
     "metadata": {},
     "output_type": "execute_result"
    }
   ],
   "source": [
    "model = LinearRegression()\n",
    "model.fit(X_train_quadratic, y_train)"
   ]
  },
  {
   "cell_type": "markdown",
   "id": "f1810461",
   "metadata": {},
   "source": [
    "proses training model :\n",
    "- membuat object model\n",
    "- mentraining nilai traning modelnya dengan `fit` proses traningnya menggunakan nilai feature yang sudah di transformasi Polymonial."
   ]
  },
  {
   "cell_type": "markdown",
   "id": "5bf9d0c2",
   "metadata": {},
   "source": [
    "### Visualisasi Model"
   ]
  },
  {
   "cell_type": "code",
   "execution_count": 21,
   "id": "93d98d75",
   "metadata": {},
   "outputs": [
    {
     "data": {
      "image/png": "[encoded data removed]",
      "text/plain": [
       "<Figure size 432x288 with 1 Axes>"
      ]
     },
     "metadata": {
      "needs_background": "light"
     },
     "output_type": "display_data"
    }
   ],
   "source": [
    "import matplotlib.pyplot as plt\n",
    "\n",
    "X_vis = np.linspace(0,25,100).reshape(-1,1)\n",
    "X_vis_quadratic = quadratic_feature.transform(X_vis)\n",
    "y_vis_quadratic = model.predict(X_vis_quadratic)\n",
    "\n",
    "plt.scatter(X_train, y_train)\n",
    "plt.plot(X_vis, y_vis_quadratic, '-r')\n",
    "\n",
    "plt.title('Perbandingan Diamterter dan Harga Pizza')\n",
    "plt.xlabel('Diagram (inch)')\n",
    "plt.ylabel('Harga (dollar)')\n",
    "plt.xlim(0,25)\n",
    "plt.ylim(0,25)\n",
    "plt.grid(True)\n",
    "plt.show()"
   ]
  },
  {
   "cell_type": "markdown",
   "id": "7d4bc5fe",
   "metadata": {},
   "source": [
    "proses visualisasi :\n",
    "- melakukan import plt.\n",
    "- membentuk deret bilangan dari 0 sampai 25 sebanyak 100 data poin `(linspace)` lalu di transformasi menggunakan `reshape (-1,1)`\n",
    "- lalu melakukan transformasi dengan `quadratic_feature`.\n",
    "- lalu melakukan prediksi mengugnakan `model.predict`\n",
    "- data poin yang divisualisasi scatter yaitu `X_train` dan `y_train`. kelima dataset ini adalah hasil dari training.\n",
    "- hasil prediksinya akan divisualisasi sebagai line plot"
   ]
  },
  {
   "cell_type": "markdown",
   "id": "39089448",
   "metadata": {},
   "source": [
    "## Polynominal Regression : Quadratic vs Cubic"
   ]
  },
  {
   "cell_type": "code",
   "execution_count": 28,
   "id": "e3da366c",
   "metadata": {},
   "outputs": [
    {
     "data": {
      "image/png": "[encoded data removed]",
      "text/plain": [
       "<Figure size 432x288 with 1 Axes>"
      ]
     },
     "metadata": {
      "needs_background": "light"
     },
     "output_type": "display_data"
    }
   ],
   "source": [
    "# training Set\n",
    "plt.scatter(X_train, y_train)\n",
    "\n",
    "#Linear\n",
    "model = LinearRegression()\n",
    "model.fit(X_train, y_train)\n",
    "X_vis = np.linspace(0,25,100).reshape(-1,1)\n",
    "y_vis = model.predict(X_vis)\n",
    "plt.plot(X_vis, y_vis,'--r', label = 'linear')\n",
    "\n",
    "#Quadratic\n",
    "quadratic_feature = PolynomialFeatures(degree=2)\n",
    "X_train_quadratic = quadratic_feature.fit_transform(X_train)\n",
    "model = LinearRegression()\n",
    "model.fit(X_train_quadratic, y_train)\n",
    "X_vis_qadratic = quadratic_feature.transform(X_vis)\n",
    "y_vis = model.predict(X_vis_quadratic)\n",
    "plt.plot(X_vis, y_vis, '--g', label = 'quadratic')\n",
    "\n",
    "#cubic\n",
    "cubic_feature = PolynomialFeatures(degree = 3)\n",
    "X_train_cubic = cubic_feature.fit_transform(X_train)\n",
    "model = LinearRegression()\n",
    "model.fit(X_train_cubic, y_train)\n",
    "X_vis_cubic = cubic_feature.transform(X_vis)\n",
    "y_vis = model.predict(X_vis_cubic)\n",
    "plt.plot(X_vis, y_vis, '--y', label = 'cubic')\n",
    "\n",
    "plt.title('Perbandingan Diameter dan harga Pizza')\n",
    "plt.xlabel('diameter(inch)')\n",
    "plt.ylabel('Harga(dollar)')\n",
    "plt.legend()\n",
    "plt.xlim(0,25)\n",
    "plt.ylim(0,25)\n",
    "plt.grid(True)\n",
    "plt.show()"
   ]
  },
  {
   "cell_type": "markdown",
   "id": "ae67b6d6",
   "metadata": {},
   "source": [
    "membuat perbandingan :\n",
    "- membuat scatter plot dulu yang isinya `X_train` dan `y_train`\n",
    "- untuk membuat linear :\n",
    "> - membuat dulu model `LinearRegression`\n",
    "> - lalu model di training menggunakan X_train dan y_train\n",
    "> - membentuk deret bilangan dari 0 sampai 25 sebanyak 100 data poin `(linspace)` lalu di transformasi menggunakan `reshape (-1,1)`\n",
    "> - lalu melakukan prediksi dari deret bilangan.\n",
    "> - lalu melakukan plotingan untuk visualisasi datanya menggunakan lineplot warna merah. (--r)\n",
    "- membuat quadratic :\n",
    "> - membuat object `PolynomialFeature` dengan `(degree=2)`\n",
    "> - lalu membuat transformasi X_train menggunakan PolynomialFeature\n",
    "> - melakukan model `LinearRegression()`\n",
    "> - lalu melakukan traning dengan menggunakan `feature` yang sudah di di transformasi menggunakan `PolynomialFeature`.\n",
    "> - melakukan transformasi dari deret bilangan dari 0 sampai 25.\n",
    "> - melakukan prediksi dari transformasi deret bilangan tersebut.\n",
    "> - membuat plotingan line plot, dengan menggunakan warna hijau\n",
    "- membuat cubic : \n",
    "> - membuat object `PolynomialFeature` dengan `(degree=3)`\n",
    "> - lalu membuat transformasi X_train menggunakan PolynomialFeature\n",
    "> - melakukan model `LinearRegression()`\n",
    "> - lalu melakukan traning dengan menggunakan `feature` yang sudah di di transformasi menggunakan `PolynomialFeature`.\n",
    "> - melakukan transformasi dari deret bilangan dari 0 sampai 25.\n",
    "> - melakukan prediksi dari transformasi deret bilangan tersebut.\n",
    "> - membuat plotingan line plot, dengan menggunakan warna kuning"
   ]
  }
 ],
 "metadata": {
  "kernelspec": {
   "display_name": "Python 3 (ipykernel)",
   "language": "python",
   "name": "python3"
  },
  "language_info": {
   "codemirror_mode": {
    "name": "ipython",
    "version": 3
   },
   "file_extension": ".py",
   "mimetype": "text/x-python",
   "name": "python",
   "nbconvert_exporter": "python",
   "pygments_lexer": "ipython3",
   "version": "3.9.7"
  }
 },
 "nbformat": 4,
 "nbformat_minor": 5
}
